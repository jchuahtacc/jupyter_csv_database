{
 "cells": [
  {
   "cell_type": "code",
   "execution_count": 1,
   "metadata": {
    "collapsed": false
   },
   "outputs": [
    {
     "ename": "SyntaxError",
     "evalue": "EOL while scanning string literal (database.py, line 46)",
     "output_type": "error",
     "traceback": [
      "\u001b[0;36m  File \u001b[0;32m\"neesdb/database.py\"\u001b[0;36m, line \u001b[0;32m46\u001b[0m\n\u001b[0;31m    self._tip(\"<table><tr><td style='vertical-align: top; padding-right: 10px;'><p>\" + text + \"</p></td><td><video autoplay loop controls style='float: right'><source\u001b[0m\n\u001b[0m                                                                                                                                                                     ^\u001b[0m\n\u001b[0;31mSyntaxError\u001b[0m\u001b[0;31m:\u001b[0m EOL while scanning string literal\n"
     ]
    }
   ],
   "source": [
    "from neesdb import Database\n",
    "db = Database(\"example.csv\")\n",
    "db.fields()"
   ]
  },
  {
   "cell_type": "code",
   "execution_count": 12,
   "metadata": {
    "collapsed": false,
    "scrolled": true
   },
   "outputs": [],
   "source": [
    "result = None\n",
    "def callback(df):\n",
    "    global result\n",
    "    result = df\n",
    "\n",
    "widget.export_view(callback)\n",
    "#from zipfile import ZipFile\n",
    "\n",
    "#with ZipFile('zippy.zip', 'w') as myZip:\n",
    "#    myZip.write('workfile')\n",
    "#    myZip.close()\n",
    "\n",
    "    "
   ]
  }
 ],
 "metadata": {
  "anaconda-cloud": {},
  "kernelspec": {
   "display_name": "Python [Root]",
   "language": "python",
   "name": "Python [Root]"
  },
  "language_info": {
   "codemirror_mode": {
    "name": "ipython",
    "version": 2
   },
   "file_extension": ".py",
   "mimetype": "text/x-python",
   "name": "python",
   "nbconvert_exporter": "python",
   "pygments_lexer": "ipython2",
   "version": "2.7.12"
  },
  "widgets": {
   "state": {
    "178c4f78ae0f41a68c47e97fd1a6544a": {
     "views": [
      {
       "cell_index": 0
      }
     ]
    },
    "5afff9f782494dc48f5eb922b44553a3": {
     "views": [
      {
       "cell_index": 0
      }
     ]
    },
    "6fd4aa6b8b8247768d406976191e6a1b": {
     "views": [
      {
       "cell_index": 0
      }
     ]
    },
    "8732c5ed62984c13a2000ef9025ddf02": {
     "views": [
      {
       "cell_index": 0
      }
     ]
    },
    "bb0ab631e72e4de19d10a9158810312e": {
     "views": [
      {
       "cell_index": 0
      }
     ]
    },
    "ccfa78cd8bcd405d9543f57520f3db72": {
     "views": [
      {
       "cell_index": 0
      }
     ]
    }
   },
   "version": "1.2.0"
  }
 },
 "nbformat": 4,
 "nbformat_minor": 0
}
