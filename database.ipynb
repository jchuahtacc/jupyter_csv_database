{
 "cells": [
  {
   "cell_type": "code",
   "execution_count": 1,
   "metadata": {
    "collapsed": false
   },
   "outputs": [],
   "source": [
    "import pandas\n",
    "import qgrid\n",
    "import ipywidgets as widgets\n",
    "\n",
    "df = pandas.read_csv(\"example.csv\")\n",
    "\n",
    "checks = widgets.Box(children=tuple(widgets.Checkbox(description=field, value=True) for field in list(df.columns.values)))\n",
    "checks"
   ]
  },
  {
   "cell_type": "code",
   "execution_count": 2,
   "metadata": {
    "collapsed": false
   },
   "outputs": [],
   "source": [
    "selected = [ ]\n",
    "\n",
    "for check in checks.children:\n",
    "    if check.value:\n",
    "        selected.append(str(check.description))\n",
    "     \n",
    "\n",
    "filtered = df[selected]\n",
    "widget = qgrid.show_grid(filtered)\n"
   ]
  },
  {
   "cell_type": "code",
   "execution_count": 12,
   "metadata": {
    "collapsed": false,
    "scrolled": true
   },
   "outputs": [],
   "source": [
    "result = None\n",
    "def callback(df):\n",
    "    global result\n",
    "    result = df\n",
    "\n",
    "widget.export_view(callback)\n",
    "#from zipfile import ZipFile\n",
    "\n",
    "#with ZipFile('zippy.zip', 'w') as myZip:\n",
    "#    myZip.write('workfile')\n",
    "#    myZip.close()\n",
    "\n",
    "    "
   ]
  },
  {
   "cell_type": "code",
   "execution_count": 13,
   "metadata": {
    "collapsed": false
   },
   "outputs": [
    {
     "data": {
      "text/html": [
       "<div>\n",
       "<table border=\"1\" class=\"dataframe\">\n",
       "  <thead>\n",
       "    <tr style=\"text-align: right;\">\n",
       "      <th></th>\n",
       "      <th>Drainage</th>\n",
       "      <th>Initial Test Density</th>\n",
       "      <th>Soil</th>\n",
       "    </tr>\n",
       "  </thead>\n",
       "  <tbody>\n",
       "    <tr>\n",
       "      <th>0</th>\n",
       "      <td>Drained</td>\n",
       "      <td>1721</td>\n",
       "      <td>Ottawa F-65</td>\n",
       "    </tr>\n",
       "    <tr>\n",
       "      <th>1</th>\n",
       "      <td>Drained</td>\n",
       "      <td>1721</td>\n",
       "      <td>Ottawa F-65</td>\n",
       "    </tr>\n",
       "    <tr>\n",
       "      <th>2</th>\n",
       "      <td>Drained</td>\n",
       "      <td>1710</td>\n",
       "      <td>Ottawa F-65</td>\n",
       "    </tr>\n",
       "  </tbody>\n",
       "</table>\n",
       "</div>"
      ],
      "text/plain": [
       "  Drainage  Initial Test Density         Soil\n",
       "0  Drained                  1721  Ottawa F-65\n",
       "1  Drained                  1721  Ottawa F-65\n",
       "2  Drained                  1710  Ottawa F-65"
      ]
     },
     "execution_count": 13,
     "metadata": {},
     "output_type": "execute_result"
    }
   ],
   "source": [
    "result"
   ]
  },
  {
   "cell_type": "code",
   "execution_count": 1,
   "metadata": {
    "collapsed": true
   },
   "outputs": [],
   "source": [
    "from db_helper import Database\n",
    "db = Database(\"example.csv\")"
   ]
  }
 ],
 "metadata": {
  "anaconda-cloud": {},
  "kernelspec": {
   "display_name": "Python [Root]",
   "language": "python",
   "name": "Python [Root]"
  },
  "language_info": {
   "codemirror_mode": {
    "name": "ipython",
    "version": 2
   },
   "file_extension": ".py",
   "mimetype": "text/x-python",
   "name": "python",
   "nbconvert_exporter": "python",
   "pygments_lexer": "ipython2",
   "version": "2.7.12"
  },
  "widgets": {
   "state": {
    "6ce2ea8e01c0478d8972476663f8bb54": {
     "views": [
      {
       "cell_index": 6
      }
     ]
    },
    "8e8b531141aa4df4aee228dbefd88643": {
     "views": [
      {
       "cell_index": 4
      }
     ]
    }
   },
   "version": "1.2.0"
  }
 },
 "nbformat": 4,
 "nbformat_minor": 0
}
