{
 "cells": [
  {
   "cell_type": "code",
   "execution_count": 1,
   "metadata": {
    "collapsed": false
   },
   "outputs": [
    {
     "ename": "AttributeError",
     "evalue": "'function' object has no attribute 'on_click'",
     "output_type": "error",
     "traceback": [
      "\u001b[0;31m---------------------------------------------------------------------------\u001b[0m",
      "\u001b[0;31mAttributeError\u001b[0m                            Traceback (most recent call last)",
      "\u001b[0;32m/Users/jchuah/anaconda/lib/python2.7/site-packages/qgrid/grid.pyc\u001b[0m in \u001b[0;36m_handle_qgrid_msg\u001b[0;34m(self, widget, content, buffers)\u001b[0m\n\u001b[1;32m    366\u001b[0m         \u001b[0;32melif\u001b[0m \u001b[0mcontent\u001b[0m\u001b[0;34m[\u001b[0m\u001b[0;34m'type'\u001b[0m\u001b[0;34m]\u001b[0m \u001b[0;34m==\u001b[0m \u001b[0;34m'export_data'\u001b[0m\u001b[0;34m:\u001b[0m\u001b[0;34m\u001b[0m\u001b[0m\n\u001b[1;32m    367\u001b[0m             \u001b[0;32mif\u001b[0m \u001b[0mself\u001b[0m\u001b[0;34m.\u001b[0m\u001b[0m_export_callback\u001b[0m\u001b[0;34m:\u001b[0m\u001b[0;34m\u001b[0m\u001b[0m\n\u001b[0;32m--> 368\u001b[0;31m                 \u001b[0mself\u001b[0m\u001b[0;34m.\u001b[0m\u001b[0m_export_callback\u001b[0m\u001b[0;34m(\u001b[0m\u001b[0mpd\u001b[0m\u001b[0;34m.\u001b[0m\u001b[0mDataFrame\u001b[0m\u001b[0;34m(\u001b[0m\u001b[0mcontent\u001b[0m\u001b[0;34m[\u001b[0m\u001b[0;34m'data'\u001b[0m\u001b[0;34m]\u001b[0m\u001b[0;34m)\u001b[0m\u001b[0;34m)\u001b[0m\u001b[0;34m\u001b[0m\u001b[0m\n\u001b[0m\u001b[1;32m    369\u001b[0m \u001b[0;34m\u001b[0m\u001b[0m\n\u001b[1;32m    370\u001b[0m     \u001b[0;32mdef\u001b[0m \u001b[0mget_selected_rows\u001b[0m\u001b[0;34m(\u001b[0m\u001b[0mself\u001b[0m\u001b[0;34m)\u001b[0m\u001b[0;34m:\u001b[0m\u001b[0;34m\u001b[0m\u001b[0m\n",
      "\u001b[0;32m/Users/jchuah/GitHub/jupyter_nees_database/neesdb/database.py\u001b[0m in \u001b[0;36m_fields_export_callback\u001b[0;34m(self, fields_df)\u001b[0m\n\u001b[1;32m     31\u001b[0m             \u001b[0mself\u001b[0m\u001b[0;34m.\u001b[0m\u001b[0m_code\u001b[0m\u001b[0;34m(\u001b[0m\u001b[0;34m\"<p>You can pre-select fields in the query interface if you know the names of the fields that you would like to query. To repeat this query, use this code:\"\u001b[0m\u001b[0;34m,\u001b[0m \u001b[0;34m\"db.fields(\"\u001b[0m \u001b[0;34m+\u001b[0m \u001b[0mstr\u001b[0m\u001b[0;34m(\u001b[0m\u001b[0mfields_array\u001b[0m\u001b[0;34m)\u001b[0m \u001b[0;34m+\u001b[0m \u001b[0;34m\")\"\u001b[0m\u001b[0;34m)\u001b[0m\u001b[0;34m\u001b[0m\u001b[0m\n\u001b[1;32m     32\u001b[0m         \u001b[0mself\u001b[0m\u001b[0;34m.\u001b[0m\u001b[0m_show_tip\u001b[0m \u001b[0;34m=\u001b[0m \u001b[0mTrue\u001b[0m\u001b[0;34m\u001b[0m\u001b[0m\n\u001b[0;32m---> 33\u001b[0;31m         \u001b[0mself\u001b[0m\u001b[0;34m.\u001b[0m\u001b[0mshow\u001b[0m\u001b[0;34m(\u001b[0m\u001b[0mfields_df\u001b[0m\u001b[0;34m.\u001b[0m\u001b[0mloc\u001b[0m\u001b[0;34m[\u001b[0m\u001b[0mfields_df\u001b[0m\u001b[0;34m[\u001b[0m\u001b[0;34m\"Show\"\u001b[0m\u001b[0;34m]\u001b[0m \u001b[0;34m==\u001b[0m \u001b[0;34m\"Yes\"\u001b[0m\u001b[0;34m]\u001b[0m\u001b[0;34m[\u001b[0m\u001b[0;34m\"Fields\"\u001b[0m\u001b[0;34m]\u001b[0m\u001b[0;34m.\u001b[0m\u001b[0mvalues\u001b[0m\u001b[0;34m)\u001b[0m\u001b[0;34m\u001b[0m\u001b[0m\n\u001b[0m\u001b[1;32m     34\u001b[0m \u001b[0;34m\u001b[0m\u001b[0m\n\u001b[1;32m     35\u001b[0m     \u001b[0;32mdef\u001b[0m \u001b[0m_tip\u001b[0m\u001b[0;34m(\u001b[0m\u001b[0mself\u001b[0m\u001b[0;34m,\u001b[0m \u001b[0mtext\u001b[0m\u001b[0;34m)\u001b[0m\u001b[0;34m:\u001b[0m\u001b[0;34m\u001b[0m\u001b[0m\n",
      "\u001b[0;32m/Users/jchuah/GitHub/jupyter_nees_database/neesdb/database.py\u001b[0m in \u001b[0;36mshow\u001b[0;34m(self, fields)\u001b[0m\n\u001b[1;32m     92\u001b[0m         \u001b[0mself\u001b[0m\u001b[0;34m.\u001b[0m\u001b[0m_data_grid\u001b[0m \u001b[0;34m=\u001b[0m \u001b[0mshow_grid\u001b[0m\u001b[0;34m(\u001b[0m\u001b[0mdf\u001b[0m\u001b[0;34m)\u001b[0m\u001b[0;34m\u001b[0m\u001b[0m\n\u001b[1;32m     93\u001b[0m         \u001b[0mexport_button\u001b[0m \u001b[0;34m=\u001b[0m \u001b[0mwidgets\u001b[0m\u001b[0;34m.\u001b[0m\u001b[0mButton\u001b[0m\u001b[0;34m(\u001b[0m\u001b[0mdescription\u001b[0m\u001b[0;34m=\u001b[0m\u001b[0;34m\"Export Files\"\u001b[0m\u001b[0;34m)\u001b[0m\u001b[0;34m\u001b[0m\u001b[0m\n\u001b[0;32m---> 94\u001b[0;31m         \u001b[0mexport_button\u001b[0m\u001b[0;34m.\u001b[0m\u001b[0mon_click\u001b[0m\u001b[0;34m.\u001b[0m\u001b[0mon_click\u001b[0m\u001b[0;34m(\u001b[0m\u001b[0mself\u001b[0m\u001b[0;34m.\u001b[0m\u001b[0m_export_button_onclick\u001b[0m\u001b[0;34m)\u001b[0m\u001b[0;34m\u001b[0m\u001b[0m\n\u001b[0m\u001b[1;32m     95\u001b[0m         \u001b[0mdisplay\u001b[0m\u001b[0;34m(\u001b[0m\u001b[0mexport_button\u001b[0m\u001b[0;34m)\u001b[0m\u001b[0;34m\u001b[0m\u001b[0m\n\u001b[1;32m     96\u001b[0m \u001b[0;34m\u001b[0m\u001b[0m\n",
      "\u001b[0;31mAttributeError\u001b[0m: 'function' object has no attribute 'on_click'"
     ]
    }
   ],
   "source": [
    "from neesdb import Database\n",
    "db = Database(\"example.csv\")\n",
    "db.fields(['Soil'])"
   ]
  },
  {
   "cell_type": "code",
   "execution_count": 12,
   "metadata": {
    "collapsed": false,
    "scrolled": true
   },
   "outputs": [],
   "source": [
    "result = None\n",
    "def callback(df):\n",
    "    global result\n",
    "    result = df\n",
    "\n",
    "widget.export_view(callback)\n",
    "#from zipfile import ZipFile\n",
    "\n",
    "#with ZipFile('zippy.zip', 'w') as myZip:\n",
    "#    myZip.write('workfile')\n",
    "#    myZip.close()\n",
    "\n",
    "    "
   ]
  }
 ],
 "metadata": {
  "anaconda-cloud": {},
  "kernelspec": {
   "display_name": "Python [Root]",
   "language": "python",
   "name": "Python [Root]"
  },
  "language_info": {
   "codemirror_mode": {
    "name": "ipython",
    "version": 2
   },
   "file_extension": ".py",
   "mimetype": "text/x-python",
   "name": "python",
   "nbconvert_exporter": "python",
   "pygments_lexer": "ipython2",
   "version": "2.7.12"
  },
  "widgets": {
   "state": {
    "010b064a2f0e466e865e4fcb2a39db83": {
     "views": [
      {
       "cell_index": 0
      }
     ]
    },
    "0341fa45593a4efd91f35070bee5532a": {
     "views": [
      {
       "cell_index": 0
      }
     ]
    },
    "0486263319654b5cab4b77bb652e9df1": {
     "views": [
      {
       "cell_index": 0
      }
     ]
    },
    "08c2ad80467e4535b79b0873e956b15c": {
     "views": [
      {
       "cell_index": 0
      }
     ]
    },
    "0b52f780ca0f47419c5802d056f1a391": {
     "views": [
      {
       "cell_index": 0
      }
     ]
    },
    "0bb8d77eb79540868cf3a45a1b942dbf": {
     "views": [
      {
       "cell_index": 0
      }
     ]
    },
    "0e68d9c455904cb59ac160df11da9b0b": {
     "views": [
      {
       "cell_index": 0
      }
     ]
    },
    "0f740743c8e64d16aebfa978d9c2626a": {
     "views": [
      {
       "cell_index": 0
      }
     ]
    },
    "1403c2acd7474d5a8448c4146752c291": {
     "views": [
      {
       "cell_index": 0
      }
     ]
    },
    "179b84da32f743219e6556e3e8d71f62": {
     "views": [
      {
       "cell_index": 0
      }
     ]
    },
    "2565d33d7c6848efa0293bd8232b308b": {
     "views": [
      {
       "cell_index": 0
      }
     ]
    },
    "291fbfd2f8e04c44a9037e3efbde519d": {
     "views": [
      {
       "cell_index": 0
      }
     ]
    },
    "294093687e7441ffa07d129fe35fdc20": {
     "views": [
      {
       "cell_index": 0
      }
     ]
    },
    "2b09d7baacb947dbb91e84084cc5448d": {
     "views": [
      {
       "cell_index": 0
      }
     ]
    },
    "2daf7e8b957b436398f75d0c5df42d02": {
     "views": [
      {
       "cell_index": 0
      }
     ]
    },
    "348c696694a744cebee37eb8910f536d": {
     "views": [
      {
       "cell_index": 0
      }
     ]
    },
    "3866e235572e4bceb71b72b80f9e844c": {
     "views": [
      {
       "cell_index": 0
      }
     ]
    },
    "3aea6e89745849e0b4a384ae8aea05c0": {
     "views": [
      {
       "cell_index": 0
      }
     ]
    },
    "3c0665fc28b54394a8c0e9087522a1d4": {
     "views": [
      {
       "cell_index": 0
      }
     ]
    },
    "43aec39a5e074129bc905bdd6507f9df": {
     "views": [
      {
       "cell_index": 0
      }
     ]
    },
    "45180157e9824d7c82d6e6eeb63ddd42": {
     "views": [
      {
       "cell_index": 0
      }
     ]
    },
    "47f7001541e643b1a293a4f61365fdb4": {
     "views": [
      {
       "cell_index": 0
      }
     ]
    },
    "594eac88d91d4c1e88a0d0e726316f96": {
     "views": [
      {
       "cell_index": 0
      }
     ]
    },
    "5c93da62b22349f2a9f9f129515748ee": {
     "views": [
      {
       "cell_index": 0
      }
     ]
    },
    "5cb1cf98d7724071840d5b4daa7e9f2f": {
     "views": [
      {
       "cell_index": 0
      }
     ]
    },
    "735ba23035934393a4cd03e45588ec12": {
     "views": [
      {
       "cell_index": 0
      }
     ]
    },
    "7523cc887b4a405da6b0cf40c9de7b69": {
     "views": [
      {
       "cell_index": 0
      }
     ]
    },
    "764d141923d845fe9d4728ec90e86464": {
     "views": [
      {
       "cell_index": 0
      }
     ]
    },
    "780e2376919f4fcc8156c933547c8b07": {
     "views": [
      {
       "cell_index": 0
      }
     ]
    },
    "782e84b7bf814a17b31ae71f2e306d27": {
     "views": [
      {
       "cell_index": 0
      }
     ]
    },
    "78ff361501554b8b8f24df90a1a88236": {
     "views": [
      {
       "cell_index": 0
      }
     ]
    },
    "7b1fdcf2b8684614875251feac7530e5": {
     "views": [
      {
       "cell_index": 0
      }
     ]
    },
    "7d591f32a4f348ec8bcbe57ae49d8125": {
     "views": [
      {
       "cell_index": 0
      }
     ]
    },
    "7f17f1cd95e443d48d8a4b5699e32695": {
     "views": [
      {
       "cell_index": 0
      }
     ]
    },
    "819e0a4345f14860b36fadd8059d6676": {
     "views": [
      {
       "cell_index": 0
      }
     ]
    },
    "89143e799ba843f7b82346871c7c3634": {
     "views": [
      {
       "cell_index": 0
      }
     ]
    },
    "8ec1bd327c684952bfe8fb513dcacb83": {
     "views": [
      {
       "cell_index": 0
      }
     ]
    },
    "96a38668e4e24fc58cf0518d86d234e3": {
     "views": [
      {
       "cell_index": 0
      }
     ]
    },
    "96c6fab7301049629c89c110bf5eb0ab": {
     "views": [
      {
       "cell_index": 0
      }
     ]
    },
    "9784ff8146ca487fb1baae6e64b76c63": {
     "views": [
      {
       "cell_index": 0
      }
     ]
    },
    "9bd76bac74414e5aaf51280f80744836": {
     "views": [
      {
       "cell_index": 0
      }
     ]
    },
    "9e5dd4302e2440209a00c45a52504bb1": {
     "views": [
      {
       "cell_index": 0
      }
     ]
    },
    "9edacedc63eb48da8b6e251a5d9ecb47": {
     "views": [
      {
       "cell_index": 0
      }
     ]
    },
    "a5d352f5849d4b20b031f92ad5fa3438": {
     "views": [
      {
       "cell_index": 0
      }
     ]
    },
    "a7c273e2c27b4b33a85ae8c12a7df763": {
     "views": [
      {
       "cell_index": 0
      }
     ]
    },
    "a9a5942dfcc84e36b5b35333bddb72a5": {
     "views": [
      {
       "cell_index": 0
      }
     ]
    },
    "ae446ca902534fc79b833cdea4458e10": {
     "views": [
      {
       "cell_index": 0
      }
     ]
    },
    "b35e97a4a270449695983a7b4b2e0a80": {
     "views": [
      {
       "cell_index": 0
      }
     ]
    },
    "b66e11fb34cd4ce2ae6580dbbce4522e": {
     "views": [
      {
       "cell_index": 0
      }
     ]
    },
    "b891961c8b564ce2a3000c63021910e0": {
     "views": [
      {
       "cell_index": 0
      }
     ]
    },
    "b9321f94576e47588a324e7c464aeb8f": {
     "views": [
      {
       "cell_index": 0
      }
     ]
    },
    "bae36e949b5b4b7f9dbdac3710ec5929": {
     "views": [
      {
       "cell_index": 0
      }
     ]
    },
    "bbd4612a9c634c63bd3ee04128beb8db": {
     "views": [
      {
       "cell_index": 0
      }
     ]
    },
    "bcc8411ff4d44d36a72aa7270ac65165": {
     "views": [
      {
       "cell_index": 0
      }
     ]
    },
    "bd31fae798cd4069892f898927a68b64": {
     "views": [
      {
       "cell_index": 0
      }
     ]
    },
    "bdaaf692e9454e4dbc3eeeef67095aaa": {
     "views": [
      {
       "cell_index": 0
      }
     ]
    },
    "bfdb0b9ef2d645ef892b6a0f07c72e89": {
     "views": [
      {
       "cell_index": 0
      }
     ]
    },
    "c706a079d61e4b009b77c3dc58817f01": {
     "views": [
      {
       "cell_index": 0
      }
     ]
    },
    "c7537e16df2641f4a5ef4e25b870ee60": {
     "views": [
      {
       "cell_index": 0
      }
     ]
    },
    "d0610cc631c14aa1adffdfbe37a493b2": {
     "views": [
      {
       "cell_index": 0
      }
     ]
    },
    "d1b6c78d097f4cbe9b13bf06b5ef01c4": {
     "views": [
      {
       "cell_index": 0
      }
     ]
    },
    "d57525db1a4d48f59857827cc61299e9": {
     "views": [
      {
       "cell_index": 0
      }
     ]
    },
    "d6cf2d5452ee45f6800601ddad6885d0": {
     "views": [
      {
       "cell_index": 0
      }
     ]
    },
    "dd6d6419ff384be6a4fa95ce1012f76f": {
     "views": [
      {
       "cell_index": 0
      }
     ]
    },
    "dd9cba11b73045fd93032bdf4312d968": {
     "views": [
      {
       "cell_index": 0
      }
     ]
    },
    "e222449926544ad9b7211853172a485e": {
     "views": [
      {
       "cell_index": 0
      }
     ]
    },
    "e672dd53879244ae938b10798d22fe34": {
     "views": [
      {
       "cell_index": 0
      }
     ]
    },
    "ecb2aa908edc4d2697b2c4c351d2446e": {
     "views": [
      {
       "cell_index": 0
      }
     ]
    },
    "ee608f04a3bd41f99f5c024a0e0d841c": {
     "views": [
      {
       "cell_index": 0
      }
     ]
    },
    "efb6710727af4aeb8536f1af32c76b79": {
     "views": [
      {
       "cell_index": 0
      }
     ]
    },
    "f37192592f4645a79b8080d7535a563f": {
     "views": [
      {
       "cell_index": 0
      }
     ]
    },
    "fc2100bb2f624e4bbf21433d425dca54": {
     "views": [
      {
       "cell_index": 0
      }
     ]
    },
    "fc71ca67e31948a7b447db5e1458d280": {
     "views": [
      {
       "cell_index": 0
      }
     ]
    }
   },
   "version": "1.2.0"
  }
 },
 "nbformat": 4,
 "nbformat_minor": 0
}
