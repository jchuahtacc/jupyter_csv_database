{
 "cells": [
  {
   "cell_type": "code",
   "execution_count": 1,
   "metadata": {
    "collapsed": false
   },
   "outputs": [
    {
     "name": "stdout",
     "output_type": "stream",
     "text": [
      "Empty DataFrame\n",
      "Columns: []\n",
      "Index: [0, 1, 2, 3, 4, 5]\n"
     ]
    }
   ],
   "source": [
    "from db_helper import Database\n",
    "db = Database(\"example_animate.csv\")"
   ]
  },
  {
   "cell_type": "code",
   "execution_count": 12,
   "metadata": {
    "collapsed": false,
    "scrolled": true
   },
   "outputs": [],
   "source": [
    "result = None\n",
    "def callback(df):\n",
    "    global result\n",
    "    result = df\n",
    "\n",
    "widget.export_view(callback)\n",
    "#from zipfile import ZipFile\n",
    "\n",
    "#with ZipFile('zippy.zip', 'w') as myZip:\n",
    "#    myZip.write('workfile')\n",
    "#    myZip.close()\n",
    "\n",
    "    "
   ]
  }
 ],
 "metadata": {
  "anaconda-cloud": {},
  "kernelspec": {
   "display_name": "Python [Root]",
   "language": "python",
   "name": "Python [Root]"
  },
  "language_info": {
   "codemirror_mode": {
    "name": "ipython",
    "version": 2
   },
   "file_extension": ".py",
   "mimetype": "text/x-python",
   "name": "python",
   "nbconvert_exporter": "python",
   "pygments_lexer": "ipython2",
   "version": "2.7.12"
  },
  "widgets": {
   "state": {
    "031b778429de4e90aebf5fdfd4147082": {
     "views": [
      {
       "cell_index": 3
      }
     ]
    },
    "0646859e88dd488989f4056f137a7536": {
     "views": [
      {
       "cell_index": 3
      }
     ]
    },
    "0ea15b6329da4f7a9332c8850ebb23c6": {
     "views": [
      {
       "cell_index": 3
      }
     ]
    },
    "16621880b8a340ca9e71658965f6e60d": {
     "views": [
      {
       "cell_index": 3
      }
     ]
    },
    "24cc48b9bb23481ea3a0ed34e263e04a": {
     "views": [
      {
       "cell_index": 3
      }
     ]
    },
    "45a6ad44e83e4e6585c084d41d8e079e": {
     "views": [
      {
       "cell_index": 3
      }
     ]
    },
    "45c9de5589454ea583afe6e77ac884ac": {
     "views": [
      {
       "cell_index": 3
      }
     ]
    },
    "4e00b8542b7f4543b5562e43043bc64f": {
     "views": [
      {
       "cell_index": 3
      }
     ]
    },
    "544bc158af004435a8d1bf93bdec39fe": {
     "views": [
      {
       "cell_index": 3
      }
     ]
    },
    "5b2f7a015c98408cb9ec95d60d90007c": {
     "views": [
      {
       "cell_index": 3
      }
     ]
    },
    "62e2bc3e87fb4fd0b297d63fb68d77ca": {
     "views": [
      {
       "cell_index": 3
      }
     ]
    },
    "764b2988a7ab4c10adb878098700030d": {
     "views": [
      {
       "cell_index": 3
      }
     ]
    },
    "8266ccd0a7b44d7ba0d61ac7d3e44890": {
     "views": [
      {
       "cell_index": 3
      }
     ]
    },
    "b174f00399b540b7a42a1e2f436d63e2": {
     "views": [
      {
       "cell_index": 3
      }
     ]
    },
    "b25425d44d044700b75c051ecc7e0687": {
     "views": [
      {
       "cell_index": 3
      }
     ]
    },
    "bcb5495d514648ec95e3903a7079acdf": {
     "views": [
      {
       "cell_index": 3
      }
     ]
    },
    "c5d67a3966694325abbf9adeb4fc514e": {
     "views": [
      {
       "cell_index": 3
      }
     ]
    },
    "de1849f7d703483f855ba5a0b1e556fc": {
     "views": [
      {
       "cell_index": 3
      }
     ]
    },
    "e0b2d568001340d2b3dccd9913a342ea": {
     "views": [
      {
       "cell_index": 3
      }
     ]
    },
    "f9b6af2d84a341109ccd98e7aa1b77f0": {
     "views": [
      {
       "cell_index": 3
      }
     ]
    }
   },
   "version": "1.2.0"
  }
 },
 "nbformat": 4,
 "nbformat_minor": 0
}
