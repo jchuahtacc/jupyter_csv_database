{
 "cells": [
  {
   "cell_type": "code",
   "execution_count": 1,
   "metadata": {
    "collapsed": false
   },
   "outputs": [
    {
     "name": "stdout",
     "output_type": "stream",
     "text": [
      "          Soil Soil Batch Delivered To\n",
      "0  Ottawa F-65             UCDavis CGM\n",
      "1  Ottawa F-65             UCDavis CGM\n",
      "2  Ottawa F-65             UCDavis CGM\n",
      "3  Ottawa F-65             UCDavis CGM\n",
      "4  Ottawa F-65             UCDavis CGM\n",
      "5  Ottawa F-65             UCDavis CGM\n"
     ]
    }
   ],
   "source": [
    "from neesdb import Database\n",
    "db = Database(\"example.csv\")\n",
    "db.query()"
   ]
  },
  {
   "cell_type": "code",
   "execution_count": 12,
   "metadata": {
    "collapsed": false,
    "scrolled": true
   },
   "outputs": [],
   "source": [
    "result = None\n",
    "def callback(df):\n",
    "    global result\n",
    "    result = df\n",
    "\n",
    "widget.export_view(callback)\n",
    "#from zipfile import ZipFile\n",
    "\n",
    "#with ZipFile('zippy.zip', 'w') as myZip:\n",
    "#    myZip.write('workfile')\n",
    "#    myZip.close()\n",
    "\n",
    "    "
   ]
  }
 ],
 "metadata": {
  "anaconda-cloud": {},
  "kernelspec": {
   "display_name": "Python [Root]",
   "language": "python",
   "name": "Python [Root]"
  },
  "language_info": {
   "codemirror_mode": {
    "name": "ipython",
    "version": 2
   },
   "file_extension": ".py",
   "mimetype": "text/x-python",
   "name": "python",
   "nbconvert_exporter": "python",
   "pygments_lexer": "ipython2",
   "version": "2.7.12"
  },
  "widgets": {
   "state": {
    "0341fa45593a4efd91f35070bee5532a": {
     "views": [
      {
       "cell_index": 0
      }
     ]
    },
    "0486263319654b5cab4b77bb652e9df1": {
     "views": [
      {
       "cell_index": 0
      }
     ]
    },
    "0bb8d77eb79540868cf3a45a1b942dbf": {
     "views": [
      {
       "cell_index": 0
      }
     ]
    },
    "0e68d9c455904cb59ac160df11da9b0b": {
     "views": [
      {
       "cell_index": 0
      }
     ]
    },
    "0f740743c8e64d16aebfa978d9c2626a": {
     "views": [
      {
       "cell_index": 0
      }
     ]
    },
    "1f68fd836a95420a8d23e8b7fe2cc99f": {
     "views": [
      {
       "cell_index": 0
      }
     ]
    },
    "2565d33d7c6848efa0293bd8232b308b": {
     "views": [
      {
       "cell_index": 0
      }
     ]
    },
    "291fbfd2f8e04c44a9037e3efbde519d": {
     "views": [
      {
       "cell_index": 0
      }
     ]
    },
    "294093687e7441ffa07d129fe35fdc20": {
     "views": [
      {
       "cell_index": 0
      }
     ]
    },
    "3aea6e89745849e0b4a384ae8aea05c0": {
     "views": [
      {
       "cell_index": 0
      }
     ]
    },
    "3c0665fc28b54394a8c0e9087522a1d4": {
     "views": [
      {
       "cell_index": 0
      }
     ]
    },
    "45180157e9824d7c82d6e6eeb63ddd42": {
     "views": [
      {
       "cell_index": 0
      }
     ]
    },
    "47f7001541e643b1a293a4f61365fdb4": {
     "views": [
      {
       "cell_index": 0
      }
     ]
    },
    "594eac88d91d4c1e88a0d0e726316f96": {
     "views": [
      {
       "cell_index": 0
      }
     ]
    },
    "735ba23035934393a4cd03e45588ec12": {
     "views": [
      {
       "cell_index": 0
      }
     ]
    },
    "7523cc887b4a405da6b0cf40c9de7b69": {
     "views": [
      {
       "cell_index": 0
      }
     ]
    },
    "782e84b7bf814a17b31ae71f2e306d27": {
     "views": [
      {
       "cell_index": 0
      }
     ]
    },
    "7b1fdcf2b8684614875251feac7530e5": {
     "views": [
      {
       "cell_index": 0
      }
     ]
    },
    "7f17f1cd95e443d48d8a4b5699e32695": {
     "views": [
      {
       "cell_index": 0
      }
     ]
    },
    "8ec1bd327c684952bfe8fb513dcacb83": {
     "views": [
      {
       "cell_index": 0
      }
     ]
    },
    "9e5dd4302e2440209a00c45a52504bb1": {
     "views": [
      {
       "cell_index": 0
      }
     ]
    },
    "9edacedc63eb48da8b6e251a5d9ecb47": {
     "views": [
      {
       "cell_index": 0
      }
     ]
    },
    "a9a5942dfcc84e36b5b35333bddb72a5": {
     "views": [
      {
       "cell_index": 0
      }
     ]
    },
    "ad52d007d976401883b90b3beb62df96": {
     "views": [
      {
       "cell_index": 0
      }
     ]
    },
    "b66e11fb34cd4ce2ae6580dbbce4522e": {
     "views": [
      {
       "cell_index": 0
      }
     ]
    },
    "b891961c8b564ce2a3000c63021910e0": {
     "views": [
      {
       "cell_index": 0
      }
     ]
    },
    "bae36e949b5b4b7f9dbdac3710ec5929": {
     "views": [
      {
       "cell_index": 0
      }
     ]
    },
    "bbd4612a9c634c63bd3ee04128beb8db": {
     "views": [
      {
       "cell_index": 0
      }
     ]
    },
    "c706a079d61e4b009b77c3dc58817f01": {
     "views": [
      {
       "cell_index": 0
      }
     ]
    },
    "c7537e16df2641f4a5ef4e25b870ee60": {
     "views": [
      {
       "cell_index": 0
      }
     ]
    },
    "d0610cc631c14aa1adffdfbe37a493b2": {
     "views": [
      {
       "cell_index": 0
      }
     ]
    },
    "dd6d6419ff384be6a4fa95ce1012f76f": {
     "views": [
      {
       "cell_index": 0
      }
     ]
    },
    "dd9cba11b73045fd93032bdf4312d968": {
     "views": [
      {
       "cell_index": 0
      }
     ]
    },
    "e222449926544ad9b7211853172a485e": {
     "views": [
      {
       "cell_index": 0
      }
     ]
    },
    "e672dd53879244ae938b10798d22fe34": {
     "views": [
      {
       "cell_index": 0
      }
     ]
    },
    "ecb2aa908edc4d2697b2c4c351d2446e": {
     "views": [
      {
       "cell_index": 0
      }
     ]
    },
    "ee608f04a3bd41f99f5c024a0e0d841c": {
     "views": [
      {
       "cell_index": 0
      }
     ]
    }
   },
   "version": "1.2.0"
  }
 },
 "nbformat": 4,
 "nbformat_minor": 0
}
