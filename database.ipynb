{
 "cells": [
  {
   "cell_type": "code",
   "execution_count": 1,
   "metadata": {
    "collapsed": false
   },
   "outputs": [],
   "source": [
    "from neesdb import Database\n",
    "db = Database(\"example.csv\")\n",
    "db.fields()"
   ]
  },
  {
   "cell_type": "code",
   "execution_count": 12,
   "metadata": {
    "collapsed": false,
    "scrolled": true
   },
   "outputs": [],
   "source": [
    "result = None\n",
    "def callback(df):\n",
    "    global result\n",
    "    result = df\n",
    "\n",
    "widget.export_view(callback)\n",
    "#from zipfile import ZipFile\n",
    "\n",
    "#with ZipFile('zippy.zip', 'w') as myZip:\n",
    "#    myZip.write('workfile')\n",
    "#    myZip.close()\n",
    "\n",
    "    "
   ]
  }
 ],
 "metadata": {
  "anaconda-cloud": {},
  "kernelspec": {
   "display_name": "Python [Root]",
   "language": "python",
   "name": "Python [Root]"
  },
  "language_info": {
   "codemirror_mode": {
    "name": "ipython",
    "version": 2
   },
   "file_extension": ".py",
   "mimetype": "text/x-python",
   "name": "python",
   "nbconvert_exporter": "python",
   "pygments_lexer": "ipython2",
   "version": "2.7.12"
  },
  "widgets": {
   "state": {
    "0f510ebfcd264889a4854b1168ea9d94": {
     "views": [
      {
       "cell_index": 0
      }
     ]
    },
    "178c4f78ae0f41a68c47e97fd1a6544a": {
     "views": [
      {
       "cell_index": 0
      }
     ]
    },
    "410b6ac19d5c4456af69def721912b0b": {
     "views": [
      {
       "cell_index": 0
      }
     ]
    },
    "43d8254230324f7092b346e2b58d7011": {
     "views": [
      {
       "cell_index": 0
      }
     ]
    },
    "5afff9f782494dc48f5eb922b44553a3": {
     "views": [
      {
       "cell_index": 0
      }
     ]
    },
    "6fd4aa6b8b8247768d406976191e6a1b": {
     "views": [
      {
       "cell_index": 0
      }
     ]
    },
    "8732c5ed62984c13a2000ef9025ddf02": {
     "views": [
      {
       "cell_index": 0
      }
     ]
    },
    "90d96d35d37e4a49a364064b3a45ec81": {
     "views": [
      {
       "cell_index": 0
      }
     ]
    },
    "b95d686368fb4422ad43559033c1de2f": {
     "views": [
      {
       "cell_index": 0
      }
     ]
    },
    "bb0ab631e72e4de19d10a9158810312e": {
     "views": [
      {
       "cell_index": 0
      }
     ]
    },
    "ccfa78cd8bcd405d9543f57520f3db72": {
     "views": [
      {
       "cell_index": 0
      }
     ]
    },
    "dd6009c192e74d2c9aa57decb5f6349f": {
     "views": [
      {
       "cell_index": 0
      }
     ]
    }
   },
   "version": "1.2.0"
  }
 },
 "nbformat": 4,
 "nbformat_minor": 0
}
