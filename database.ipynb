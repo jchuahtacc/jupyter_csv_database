{
 "cells": [
  {
   "cell_type": "code",
   "execution_count": 1,
   "metadata": {
    "collapsed": false
   },
   "outputs": [],
   "source": [
    "from neesdb import Database\n",
    "db = Database(\"example.csv\")\n",
    "db.fields()"
   ]
  },
  {
   "cell_type": "code",
   "execution_count": 1,
   "metadata": {
    "collapsed": true
   },
   "outputs": [],
   "source": [
    "from neesdb import FileBrowser\n",
    "f = FileBrowser()\n",
    "f.widget()"
   ]
  },
  {
   "cell_type": "code",
   "execution_count": 12,
   "metadata": {
    "collapsed": false,
    "scrolled": true
   },
   "outputs": [],
   "source": [
    "result = None\n",
    "def callback(df):\n",
    "    global result\n",
    "    result = df\n",
    "\n",
    "widget.export_view(callback)\n",
    "#from zipfile import ZipFile\n",
    "\n",
    "#with ZipFile('zippy.zip', 'w') as myZip:\n",
    "#    myZip.write('workfile')\n",
    "#    myZip.close()\n",
    "\n",
    "    "
   ]
  }
 ],
 "metadata": {
  "anaconda-cloud": {},
  "kernelspec": {
   "display_name": "Python [Root]",
   "language": "python",
   "name": "Python [Root]"
  },
  "language_info": {
   "codemirror_mode": {
    "name": "ipython",
    "version": 2
   },
   "file_extension": ".py",
   "mimetype": "text/x-python",
   "name": "python",
   "nbconvert_exporter": "python",
   "pygments_lexer": "ipython2",
   "version": "2.7.12"
  },
  "widgets": {
   "state": {
    "0051ccee441e48339dc302e365c92d67": {
     "views": [
      {
       "cell_index": 0
      }
     ]
    },
    "03351255b8aa486f9e49b4e0deb59895": {
     "views": [
      {
       "cell_index": 0
      }
     ]
    },
    "0f510ebfcd264889a4854b1168ea9d94": {
     "views": [
      {
       "cell_index": 0
      }
     ]
    },
    "144595b550ef4441bef937a4bba01f75": {
     "views": [
      {
       "cell_index": 0
      }
     ]
    },
    "178c4f78ae0f41a68c47e97fd1a6544a": {
     "views": [
      {
       "cell_index": 0
      }
     ]
    },
    "1cfc681880a849e082c54622075bed4f": {
     "views": [
      {
       "cell_index": 0
      }
     ]
    },
    "1f5be572722849dc95c4203ca7a88f29": {
     "views": [
      {
       "cell_index": 1
      }
     ]
    },
    "2a5e386722be406cb20f15148d23595e": {
     "views": [
      {
       "cell_index": 0
      }
     ]
    },
    "3f0e90b0d6df494ebb6fb39b2be425f3": {
     "views": [
      {
       "cell_index": 0
      }
     ]
    },
    "410b6ac19d5c4456af69def721912b0b": {
     "views": [
      {
       "cell_index": 0
      }
     ]
    },
    "43d8254230324f7092b346e2b58d7011": {
     "views": [
      {
       "cell_index": 0
      }
     ]
    },
    "5afff9f782494dc48f5eb922b44553a3": {
     "views": [
      {
       "cell_index": 0
      }
     ]
    },
    "6c18321cd6764e2ab26ed9fab98b4428": {
     "views": [
      {
       "cell_index": 0
      }
     ]
    },
    "6fd4aa6b8b8247768d406976191e6a1b": {
     "views": [
      {
       "cell_index": 0
      }
     ]
    },
    "7901b558b88842ac8d07abc6c1e2a1b1": {
     "views": [
      {
       "cell_index": 0
      }
     ]
    },
    "7942af9c4a854ae086a2342fc378d3df": {
     "views": [
      {
       "cell_index": 0
      }
     ]
    },
    "818bd1739ad44820995b7f9abdaadc64": {
     "views": [
      {
       "cell_index": 0
      }
     ]
    },
    "8732c5ed62984c13a2000ef9025ddf02": {
     "views": [
      {
       "cell_index": 0
      }
     ]
    },
    "a641cade51a947e480f2196ff5f58291": {
     "views": [
      {
       "cell_index": 0
      }
     ]
    },
    "bb0ab631e72e4de19d10a9158810312e": {
     "views": [
      {
       "cell_index": 0
      }
     ]
    },
    "c79e61e9f952426aac812ab89cb8b4e1": {
     "views": [
      {
       "cell_index": 0
      }
     ]
    },
    "ccfa78cd8bcd405d9543f57520f3db72": {
     "views": [
      {
       "cell_index": 0
      }
     ]
    },
    "d498ab331c054c2abc4018be531b8d72": {
     "views": [
      {
       "cell_index": 0
      }
     ]
    },
    "dcaa9fe7150c4d4998fd22c6ffba58ea": {
     "views": [
      {
       "cell_index": 0
      }
     ]
    },
    "dd6009c192e74d2c9aa57decb5f6349f": {
     "views": [
      {
       "cell_index": 0
      }
     ]
    },
    "ebedf3a25bed4bc8900d61980227b191": {
     "views": [
      {
       "cell_index": 0
      }
     ]
    },
    "f4f84c3c64fd48ed8dc763fdb405bdda": {
     "views": [
      {
       "cell_index": 0
      }
     ]
    }
   },
   "version": "1.2.0"
  }
 },
 "nbformat": 4,
 "nbformat_minor": 0
}
