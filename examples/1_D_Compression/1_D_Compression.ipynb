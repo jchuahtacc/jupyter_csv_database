{
 "cells": [
  {
   "cell_type": "code",
   "execution_count": 1,
   "metadata": {
    "collapsed": false
   },
   "outputs": [],
   "source": [
    "from neesdb import Database\n",
    "db = Database(\"1_D_Compression.csv\")\n",
    "db.show(['Prep Method', 'Soil', 'Test Name', 'Stress-Strain Datafiles'])"
   ]
  }
 ],
 "metadata": {
  "anaconda-cloud": {},
  "kernelspec": {
   "display_name": "Python 2",
   "language": "python",
   "name": "python2"
  },
  "language_info": {
   "codemirror_mode": {
    "name": "ipython",
    "version": 2
   },
   "file_extension": ".py",
   "mimetype": "text/x-python",
   "name": "python",
   "nbconvert_exporter": "python",
   "pygments_lexer": "ipython2",
   "version": "2.7.12"
  },
  "widgets": {
   "state": {
    "027aaab76bf64b27a31f666c4fbdae57": {
     "views": [
      {
       "cell_index": 0
      }
     ]
    },
    "0e54db1e9962492da47e2bb5d6c75c02": {
     "views": [
      {
       "cell_index": 0
      }
     ]
    },
    "230d67617b4a4c1e9b73329e9ac5704c": {
     "views": [
      {
       "cell_index": 0
      }
     ]
    },
    "26dfe87c09d7413eabdafe4da7192047": {
     "views": [
      {
       "cell_index": 0
      }
     ]
    },
    "294b065738914fc99bac27f4d5df99d6": {
     "views": [
      {
       "cell_index": 0
      }
     ]
    },
    "423547d15651474fb5feb0d3acfbe6da": {
     "views": [
      {
       "cell_index": 0
      }
     ]
    },
    "45e8294f01524246bc647ed638cf8d8c": {
     "views": [
      {
       "cell_index": 0
      }
     ]
    },
    "46860ba572394870ac1c807f401b77be": {
     "views": [
      {
       "cell_index": 0
      }
     ]
    },
    "47ffb593d93f447eae7f98f9f203e7e4": {
     "views": [
      {
       "cell_index": 0
      }
     ]
    },
    "49d1e14f07c544f989e8f1e34bb62a14": {
     "views": [
      {
       "cell_index": 0
      }
     ]
    },
    "4a05e75462ea4b9784c186213e07fb56": {
     "views": [
      {
       "cell_index": 0
      }
     ]
    },
    "50c33b7c474748ffbf14a38e3dbf367b": {
     "views": [
      {
       "cell_index": 0
      }
     ]
    },
    "529c05b422754d32a1d374d2fe3e0023": {
     "views": [
      {
       "cell_index": 0
      }
     ]
    },
    "52aa5ff39fde4b899a60a51c82997ba4": {
     "views": [
      {
       "cell_index": 0
      }
     ]
    },
    "5c82d68665534c07bbbff799d41322ee": {
     "views": [
      {
       "cell_index": 0
      }
     ]
    },
    "6e079c6f39b9455ea4ca83e51562d75f": {
     "views": [
      {
       "cell_index": 0
      }
     ]
    },
    "6e7211f14a134b52b214ecf16ba79758": {
     "views": [
      {
       "cell_index": 0
      }
     ]
    },
    "7066bf21036643ddac60cbb4052733e0": {
     "views": [
      {
       "cell_index": 0
      }
     ]
    },
    "75c73051a9b94beca8defa77c70b2c98": {
     "views": [
      {
       "cell_index": 0
      }
     ]
    },
    "764b5c89ffdf41ceb6f681432ed3a271": {
     "views": [
      {
       "cell_index": 0
      }
     ]
    },
    "78236a25317b439482df4121a378398d": {
     "views": [
      {
       "cell_index": 0
      }
     ]
    },
    "7946700a638941299ebad0dc10735887": {
     "views": [
      {
       "cell_index": 0
      }
     ]
    },
    "7d7f320b793d49919508d7197c5bc163": {
     "views": [
      {
       "cell_index": 0
      }
     ]
    },
    "7d86679386e34da29443048ac97c0bb8": {
     "views": [
      {
       "cell_index": 0
      }
     ]
    },
    "92696a3ff5ab45b7a788fbf429252998": {
     "views": [
      {
       "cell_index": 0
      }
     ]
    },
    "a68edcf7ea3046af90c25e6aed8cfef9": {
     "views": [
      {
       "cell_index": 0
      }
     ]
    },
    "a6ee6155d7eb4d51bd89c4e9ab637ffd": {
     "views": [
      {
       "cell_index": 0
      }
     ]
    },
    "ab09d2597c76469d8e706c2051a51b74": {
     "views": [
      {
       "cell_index": 0
      }
     ]
    },
    "abacdd700793423d98f7c1740122f3e1": {
     "views": [
      {
       "cell_index": 0
      }
     ]
    },
    "bd7a570449704dcbbf67519c73d7c123": {
     "views": [
      {
       "cell_index": 0
      }
     ]
    },
    "ca575ac95e074bb6ba38f088f2c26e92": {
     "views": [
      {
       "cell_index": 0
      }
     ]
    },
    "d11dbef7d4284c6784b50cac81f3a23f": {
     "views": [
      {
       "cell_index": 0
      }
     ]
    },
    "d8a80296ba034cf1a6c7c9a8128b7012": {
     "views": [
      {
       "cell_index": 0
      }
     ]
    },
    "ddfed540fc6f4e349541c8f997363aa7": {
     "views": [
      {
       "cell_index": 0
      }
     ]
    },
    "e444b37b646346bc9a607b3dc23c7221": {
     "views": [
      {
       "cell_index": 0
      }
     ]
    },
    "e509c14341af46f387ce784f7ec6132e": {
     "views": [
      {
       "cell_index": 0
      }
     ]
    },
    "e9cb2c32d7e645dfac1a7de108587952": {
     "views": [
      {
       "cell_index": 0
      }
     ]
    },
    "ed5ae7f8352143f39c95dbbad3357bb5": {
     "views": [
      {
       "cell_index": 0
      }
     ]
    },
    "fcbf57aa661e4f908ef6f308469a3fc8": {
     "views": [
      {
       "cell_index": 0
      }
     ]
    }
   },
   "version": "1.2.0"
  }
 },
 "nbformat": 4,
 "nbformat_minor": 0
}
