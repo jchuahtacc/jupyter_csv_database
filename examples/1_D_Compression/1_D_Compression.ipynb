{
 "cells": [
  {
   "cell_type": "code",
   "execution_count": 3,
   "metadata": {
    "collapsed": false
   },
   "outputs": [],
   "source": [
    "from neesdb import Database\n",
    "db = Database(\"1_D_Compression.csv\")\n",
    "db.show(['Test Name'])"
   ]
  }
 ],
 "metadata": {
  "anaconda-cloud": {},
  "kernelspec": {
   "display_name": "Python 2",
   "language": "python",
   "name": "python2"
  },
  "language_info": {
   "codemirror_mode": {
    "name": "ipython",
    "version": 2
   },
   "file_extension": ".py",
   "mimetype": "text/x-python",
   "name": "python",
   "nbconvert_exporter": "python",
   "pygments_lexer": "ipython2",
   "version": "2.7.12"
  },
  "widgets": {
   "state": {
    "0852288a0fc047a3a848e8b43a83deac": {
     "views": [
      {
       "cell_index": 0
      }
     ]
    },
    "0d786fe62f37472494dc530203712ecb": {
     "views": [
      {
       "cell_index": 0
      }
     ]
    },
    "122992db5f55450e9ade4974b4ac0103": {
     "views": [
      {
       "cell_index": 0
      }
     ]
    },
    "153a0a21d7834e908e88df63072ca4a4": {
     "views": [
      {
       "cell_index": 0
      }
     ]
    },
    "20fdfd99c26b4311999f011a596a3f7d": {
     "views": [
      {
       "cell_index": 0
      }
     ]
    },
    "476f5a48c8264a35b302e7c0e6eedd38": {
     "views": [
      {
       "cell_index": 0
      }
     ]
    },
    "53cd60aec1ac4ef29dd7a56270783ad3": {
     "views": [
      {
       "cell_index": 0
      }
     ]
    },
    "55611840b2f24681bfba5421ce9db826": {
     "views": [
      {
       "cell_index": 0
      }
     ]
    },
    "564a00b8a3e146a1befa3dceda69629b": {
     "views": [
      {
       "cell_index": 0
      }
     ]
    },
    "62e33928f2cb462bacc6997e2577561c": {
     "views": [
      {
       "cell_index": 0
      }
     ]
    },
    "67cc1af5731c4116bad7f89daec47747": {
     "views": [
      {
       "cell_index": 0
      }
     ]
    },
    "6dcb4bae1c8b4a73899cbbeff33f188d": {
     "views": [
      {
       "cell_index": 0
      }
     ]
    },
    "772b493e783549259b35f5873bc29f5c": {
     "views": [
      {
       "cell_index": 0
      }
     ]
    },
    "96fc9db52fbf4c0c97c4ebf3da8d6dc5": {
     "views": [
      {
       "cell_index": 0
      }
     ]
    },
    "98f7fa3192f148df9804ff0c8337f69d": {
     "views": [
      {
       "cell_index": 0
      }
     ]
    },
    "9b3f9c3596c74c51a7b58423d4e2c22f": {
     "views": [
      {
       "cell_index": 0
      }
     ]
    },
    "9b9b874153d24292b8936639c2485644": {
     "views": [
      {
       "cell_index": 0
      }
     ]
    },
    "9c6970d0edb5414d811089efa896fc59": {
     "views": [
      {
       "cell_index": 0
      }
     ]
    },
    "a00558db9b3b47a1b285d23fc129c02d": {
     "views": [
      {
       "cell_index": 0
      }
     ]
    },
    "b6107617f5f642cb93e480f9cecaf2cb": {
     "views": [
      {
       "cell_index": 0
      }
     ]
    },
    "c44c7092327841af83722de0dc7a1154": {
     "views": [
      {
       "cell_index": 0
      }
     ]
    },
    "c57a100f279e4378891c044a46fd0cf8": {
     "views": [
      {
       "cell_index": 0
      }
     ]
    },
    "d38bc7d9e51949789ddce28fba9315e3": {
     "views": [
      {
       "cell_index": 0
      }
     ]
    },
    "d401a024a7144d50902baab7d16a9a9b": {
     "views": [
      {
       "cell_index": 0
      }
     ]
    },
    "f7fcfb37f74f48c19bb23e994d8c63bf": {
     "views": [
      {
       "cell_index": 0
      }
     ]
    },
    "fa9ce8ffd978462b918e15ba6418fff7": {
     "views": [
      {
       "cell_index": 0
      }
     ]
    },
    "fc82d8f1862144e3a617f55e68d41e40": {
     "views": [
      {
       "cell_index": 0
      }
     ]
    },
    "ff2057f0036241009e3f92c77802a6cd": {
     "views": [
      {
       "cell_index": 0
      }
     ]
    }
   },
   "version": "1.2.0"
  }
 },
 "nbformat": 4,
 "nbformat_minor": 0
}
