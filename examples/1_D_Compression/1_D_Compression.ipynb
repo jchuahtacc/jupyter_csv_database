{
 "cells": [
  {
   "cell_type": "code",
   "execution_count": 1,
   "metadata": {
    "collapsed": false
   },
   "outputs": [
    {
     "data": {
      "application/javascript": [
       "\n",
       "                var code = IPython.notebook.insert_cell_below('code');\n",
       "                code.set_text(atob(\"IyBSdW4gdGhpcyBjb2RlIGNlbGwgdG8gcmVwZWF0IHlvdXIgZmllbGQgc2VsZWN0aW9uCgpmcm9tIG5lZXNkYiBpbXBvcnQgRGF0YWJhc2UKZGIgPSBEYXRhYmFzZSgiMV9EX0NvbXByZXNzaW9uLmNzdiIpCmRiLmZpZWxkcyhbdSdQbG90cycsIHUnVGVzdCBOYW1lJ10p\"));\n",
       "            "
      ],
      "text/plain": [
       "<IPython.core.display.Javascript object>"
      ]
     },
     "metadata": {},
     "output_type": "display_data"
    },
    {
     "data": {
      "application/javascript": [
       "\n",
       "                var code = IPython.notebook.insert_cell_at_bottom('code');\n",
       "                code.set_text(atob(\"IyBSdW4gdGhpcyBjb2RlIGNlbGwgdG8gcmVwZWF0IHNob3cgdGhlIGZpZWxkcyB5b3Ugc2VsZWN0ZWQKCmZyb20gbmVlc2RiIGltcG9ydCBEYXRhYmFzZQpkYiA9IERhdGFiYXNlKCIxX0RfQ29tcHJlc3Npb24uY3N2IikKZGIuc2hvdyhbdSdQbG90cycsIHUnVGVzdCBOYW1lJ10p\"));\n",
       "            "
      ],
      "text/plain": [
       "<IPython.core.display.Javascript object>"
      ]
     },
     "metadata": {},
     "output_type": "display_data"
    }
   ],
   "source": [
    "from neesdb import Database\n",
    "db = Database(\"1_D_Compression.csv\")\n",
    "db.fields([u'Plots', u'Test Name'])"
   ]
  },
  {
   "cell_type": "code",
   "execution_count": null,
   "metadata": {
    "collapsed": true
   },
   "outputs": [],
   "source": [
    "# Run this code cell to repeat your field selection\n",
    "\n",
    "from neesdb import Database\n",
    "db = Database(\"1_D_Compression.csv\")\n",
    "db.fields([u'Plots', u'Test Name'])"
   ]
  },
  {
   "cell_type": "code",
   "execution_count": 1,
   "metadata": {
    "collapsed": true
   },
   "outputs": [],
   "source": [
    "# Run this code cell to repeat show the fields you selected\n",
    "\n",
    "from neesdb import Database\n",
    "db = Database(\"1_D_Compression.csv\")\n",
    "db.show([u'Plots', u'Test Name'])"
   ]
  }
 ],
 "metadata": {
  "anaconda-cloud": {},
  "kernelspec": {
   "display_name": "Python 2",
   "language": "python",
   "name": "python2"
  },
  "language_info": {
   "codemirror_mode": {
    "name": "ipython",
    "version": 2
   },
   "file_extension": ".py",
   "mimetype": "text/x-python",
   "name": "python",
   "nbconvert_exporter": "python",
   "pygments_lexer": "ipython2",
   "version": "2.7.12"
  },
  "widgets": {
   "state": {
    "04c8b5451eb64761a3183934697d0d61": {
     "views": [
      {
       "cell_index": 0
      }
     ]
    },
    "169d19a1cc064fa4b8abd405b7cd1368": {
     "views": [
      {
       "cell_index": 2
      }
     ]
    },
    "1f69937f9add41bcad93133675493766": {
     "views": [
      {
       "cell_index": 2
      }
     ]
    },
    "20d899c257cf41099f3292465f1d9637": {
     "views": [
      {
       "cell_index": 1
      }
     ]
    },
    "48006b32f17b47859d7cb88f38b4b608": {
     "views": [
      {
       "cell_index": 1
      }
     ]
    },
    "5033d6852a864b1f9b3a13075902010a": {
     "views": [
      {
       "cell_index": 2
      }
     ]
    },
    "54436031059248a7a728519997009913": {
     "views": [
      {
       "cell_index": 2
      }
     ]
    },
    "7be6e3d8e8f04400b8e3183e9dfd24a2": {
     "views": [
      {
       "cell_index": 2
      }
     ]
    },
    "940e395048a74ce9a84cdb0bbc5d1e5c": {
     "views": [
      {
       "cell_index": 2
      }
     ]
    },
    "a66e920f788a4796b05d9f172306e759": {
     "views": [
      {
       "cell_index": 0
      }
     ]
    },
    "ae7e00c8c76c4637a1f779d0aad0a959": {
     "views": [
      {
       "cell_index": 1
      }
     ]
    },
    "b862facf719944208aa56cb16de85944": {
     "views": [
      {
       "cell_index": 0
      }
     ]
    },
    "c2123156a91c4ffb91300c8c46169434": {
     "views": [
      {
       "cell_index": 1
      }
     ]
    },
    "c61ebf54e15a4dca92f47532a250a5ee": {
     "views": [
      {
       "cell_index": 0
      }
     ]
    },
    "c70c52a31bb24b5a8d60a7ab7f5d6ca4": {
     "views": [
      {
       "cell_index": 2
      }
     ]
    },
    "ce8439af49854048b74f7a18b26891e7": {
     "views": [
      {
       "cell_index": 1
      }
     ]
    },
    "d06d93c1f9aa4263ad3ca2b4161ead03": {
     "views": [
      {
       "cell_index": 2
      }
     ]
    },
    "d07d5f79d48f4829bbc26c688d8bd2ee": {
     "views": [
      {
       "cell_index": 1
      }
     ]
    },
    "d78d863787464349b0eb967fa68c25c5": {
     "views": [
      {
       "cell_index": 0
      }
     ]
    },
    "f4644924903549bea9c14cd99917edd1": {
     "views": [
      {
       "cell_index": 2
      }
     ]
    },
    "f854848baaa6410a854a1c505dffa996": {
     "views": [
      {
       "cell_index": 2
      }
     ]
    }
   },
   "version": "1.2.0"
  }
 },
 "nbformat": 4,
 "nbformat_minor": 0
}
