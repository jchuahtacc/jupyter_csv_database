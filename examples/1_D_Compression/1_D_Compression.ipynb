{
 "cells": [
  {
   "cell_type": "code",
   "execution_count": 2,
   "metadata": {
    "collapsed": false
   },
   "outputs": [],
   "source": [
    "from neesdb import Database\n",
    "db = Database(\"1_D_Compression.csv\")\n",
    "db.fields()"
   ]
  },
  {
   "cell_type": "code",
   "execution_count": 2,
   "metadata": {
    "collapsed": false
   },
   "outputs": [
    {
     "name": "stdout",
     "output_type": "stream",
     "text": [
      "  field 1  field 2  field 3  field 4\n",
      "0       a      0.0      NaN      NaN\n",
      "1       b      1.0      NaN      NaN\n",
      "3     NaN      3.0      NaN      NaN\n",
      "4     NaN      6.0      NaN      NaN\n",
      "5     NaN      6.0      NaN      NaN\n",
      "6     NaN      6.0      NaN      NaN\n"
     ]
    }
   ],
   "source": [
    "print db._df\n"
   ]
  }
 ],
 "metadata": {
  "anaconda-cloud": {},
  "kernelspec": {
   "display_name": "Python 2",
   "language": "python",
   "name": "python2"
  },
  "language_info": {
   "codemirror_mode": {
    "name": "ipython",
    "version": 2
   },
   "file_extension": ".py",
   "mimetype": "text/x-python",
   "name": "python",
   "nbconvert_exporter": "python",
   "pygments_lexer": "ipython2",
   "version": "2.7.12"
  },
  "widgets": {
   "state": {
    "0e54db1e9962492da47e2bb5d6c75c02": {
     "views": [
      {
       "cell_index": 0
      }
     ]
    },
    "12d9a9db4572455f840d57311c2934c5": {
     "views": [
      {
       "cell_index": 0
      }
     ]
    },
    "21b26c1ada004d868419a1e035c3088d": {
     "views": [
      {
       "cell_index": 0
      }
     ]
    },
    "26dfe87c09d7413eabdafe4da7192047": {
     "views": [
      {
       "cell_index": 0
      }
     ]
    },
    "294b065738914fc99bac27f4d5df99d6": {
     "views": [
      {
       "cell_index": 0
      }
     ]
    },
    "423547d15651474fb5feb0d3acfbe6da": {
     "views": [
      {
       "cell_index": 0
      }
     ]
    },
    "47ffb593d93f447eae7f98f9f203e7e4": {
     "views": [
      {
       "cell_index": 0
      }
     ]
    },
    "49d1e14f07c544f989e8f1e34bb62a14": {
     "views": [
      {
       "cell_index": 0
      }
     ]
    },
    "50c33b7c474748ffbf14a38e3dbf367b": {
     "views": [
      {
       "cell_index": 0
      }
     ]
    },
    "52aa5ff39fde4b899a60a51c82997ba4": {
     "views": [
      {
       "cell_index": 0
      }
     ]
    },
    "5c82d68665534c07bbbff799d41322ee": {
     "views": [
      {
       "cell_index": 0
      }
     ]
    },
    "75c73051a9b94beca8defa77c70b2c98": {
     "views": [
      {
       "cell_index": 0
      }
     ]
    },
    "764b5c89ffdf41ceb6f681432ed3a271": {
     "views": [
      {
       "cell_index": 0
      }
     ]
    },
    "78236a25317b439482df4121a378398d": {
     "views": [
      {
       "cell_index": 0
      }
     ]
    },
    "7946700a638941299ebad0dc10735887": {
     "views": [
      {
       "cell_index": 0
      }
     ]
    },
    "7d86679386e34da29443048ac97c0bb8": {
     "views": [
      {
       "cell_index": 0
      }
     ]
    },
    "92696a3ff5ab45b7a788fbf429252998": {
     "views": [
      {
       "cell_index": 0
      }
     ]
    },
    "9f106d37467f4d75b90c59c18a3ec614": {
     "views": [
      {
       "cell_index": 0
      }
     ]
    },
    "abacdd700793423d98f7c1740122f3e1": {
     "views": [
      {
       "cell_index": 0
      }
     ]
    },
    "ca575ac95e074bb6ba38f088f2c26e92": {
     "views": [
      {
       "cell_index": 0
      }
     ]
    },
    "d8a80296ba034cf1a6c7c9a8128b7012": {
     "views": [
      {
       "cell_index": 0
      }
     ]
    },
    "e509c14341af46f387ce784f7ec6132e": {
     "views": [
      {
       "cell_index": 0
      }
     ]
    },
    "e9cb2c32d7e645dfac1a7de108587952": {
     "views": [
      {
       "cell_index": 0
      }
     ]
    },
    "fcbf57aa661e4f908ef6f308469a3fc8": {
     "views": [
      {
       "cell_index": 0
      }
     ]
    }
   },
   "version": "1.2.0"
  }
 },
 "nbformat": 4,
 "nbformat_minor": 0
}
