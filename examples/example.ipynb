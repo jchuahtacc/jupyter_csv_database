{
 "cells": [
  {
   "cell_type": "code",
   "execution_count": 1,
   "metadata": {
    "collapsed": false
   },
   "outputs": [],
   "source": [
    "from neesdb import Database\n",
    "db = Database(\"example.csv\")\n",
    "db.show(['field 2'])"
   ]
  },
  {
   "cell_type": "code",
   "execution_count": 7,
   "metadata": {
    "collapsed": false
   },
   "outputs": [
    {
     "data": {
      "text/html": [
       "<div>\n",
       "<table border=\"1\" class=\"dataframe\">\n",
       "  <thead>\n",
       "    <tr style=\"text-align: right;\">\n",
       "      <th></th>\n",
       "      <th>field1</th>\n",
       "      <th>field2</th>\n",
       "    </tr>\n",
       "  </thead>\n",
       "  <tbody>\n",
       "    <tr>\n",
       "      <th>0</th>\n",
       "      <td>value1</td>\n",
       "      <td>value3</td>\n",
       "    </tr>\n",
       "    <tr>\n",
       "      <th>1</th>\n",
       "      <td>value2</td>\n",
       "      <td>value4</td>\n",
       "    </tr>\n",
       "    <tr>\n",
       "      <th>2</th>\n",
       "      <td>NaN</td>\n",
       "      <td>value5</td>\n",
       "    </tr>\n",
       "    <tr>\n",
       "      <th>3</th>\n",
       "      <td>NaN</td>\n",
       "      <td>value6</td>\n",
       "    </tr>\n",
       "  </tbody>\n",
       "</table>\n",
       "</div>"
      ],
      "text/plain": [
       "   field1  field2\n",
       "0  value1  value3\n",
       "1  value2  value4\n",
       "2     NaN  value5\n",
       "3     NaN  value6"
      ]
     },
     "execution_count": 7,
     "metadata": {},
     "output_type": "execute_result"
    }
   ],
   "source": [
    "import pandas\n",
    "df1 = pandas.DataFrame({'field1' : ['value1', 'value2'],\n",
    "                       'field2' : ['value3', 'value4']},\n",
    "                      index=['0', '1'])\n",
    "df2 = pandas.DataFrame({'field2' : ['value4', 'value5', 'value6']}, index=['0', '1', '2'])\n",
    "\n",
    "df3 = pandas.merge(df1, df2, how='outer')\n",
    "df3"
   ]
  }
 ],
 "metadata": {
  "anaconda-cloud": {},
  "kernelspec": {
   "display_name": "Python [Root]",
   "language": "python",
   "name": "Python [Root]"
  },
  "language_info": {
   "codemirror_mode": {
    "name": "ipython",
    "version": 2
   },
   "file_extension": ".py",
   "mimetype": "text/x-python",
   "name": "python",
   "nbconvert_exporter": "python",
   "pygments_lexer": "ipython2",
   "version": "2.7.12"
  },
  "widgets": {
   "state": {
    "018954a0fe30459abc1e4a33602a36ac": {
     "views": [
      {
       "cell_index": 0
      }
     ]
    },
    "0221ed93d488429da067c4a23305b70d": {
     "views": [
      {
       "cell_index": 0
      }
     ]
    },
    "031399686e5f412795655a1287663f68": {
     "views": [
      {
       "cell_index": 0
      }
     ]
    },
    "0387bc687c334f3b83518e0f2c105e0d": {
     "views": [
      {
       "cell_index": 0
      }
     ]
    },
    "039b58ce4d5a4308a7dcec22a0cc555b": {
     "views": [
      {
       "cell_index": 0
      }
     ]
    },
    "06f05d8a71f1451796d85e3536fc3403": {
     "views": [
      {
       "cell_index": 0
      }
     ]
    },
    "09ffbfe313824806a197ff5fd3681692": {
     "views": [
      {
       "cell_index": 0
      }
     ]
    },
    "0e3217f92e664728baacaf5546acafad": {
     "views": [
      {
       "cell_index": 0
      }
     ]
    },
    "0e540106574b4454ba92117421bb4f1f": {
     "views": [
      {
       "cell_index": 0
      }
     ]
    },
    "1026057362754148a1d5a6da1c0d81ac": {
     "views": [
      {
       "cell_index": 0
      }
     ]
    },
    "1230fd2bf0534b7589bc9cc7c2b7af96": {
     "views": [
      {
       "cell_index": 0
      }
     ]
    },
    "169141aeea93415c93798cd5e2af2a51": {
     "views": [
      {
       "cell_index": 0
      }
     ]
    },
    "1864dea5d2ce4533845dab605be4d021": {
     "views": [
      {
       "cell_index": 0
      }
     ]
    },
    "18aec24f3d8c4ad6bd9dbb3d0af192bb": {
     "views": [
      {
       "cell_index": 0
      }
     ]
    },
    "197542dd8d5b409685a8a7a8def92fb2": {
     "views": [
      {
       "cell_index": 0
      }
     ]
    },
    "1f41e4c726ee4f92a05f4ecce9128e33": {
     "views": [
      {
       "cell_index": 0
      }
     ]
    },
    "23853c72910a45b39d145472b5d63a2b": {
     "views": [
      {
       "cell_index": 0
      }
     ]
    },
    "238e8fdbb4f747a68fa91ed1e6bfb061": {
     "views": [
      {
       "cell_index": 0
      }
     ]
    },
    "26f2fa102ed745bb8dd40f61b42a89c1": {
     "views": [
      {
       "cell_index": 0
      }
     ]
    },
    "2a72313ce27c49fd9c444d0ad4e03652": {
     "views": [
      {
       "cell_index": 0
      }
     ]
    },
    "2c163f98d1c044069b148db2731d0234": {
     "views": [
      {
       "cell_index": 0
      }
     ]
    },
    "2fba4f78fe2c445aa0b0e803e235b04a": {
     "views": [
      {
       "cell_index": 0
      }
     ]
    },
    "32b924e74db346dcb59a697b8298f626": {
     "views": [
      {
       "cell_index": 0
      }
     ]
    },
    "33cbddd0f82a4a2eb6ab14d97c93261e": {
     "views": [
      {
       "cell_index": 0
      }
     ]
    },
    "3415add4983a4bbca64a58a99ae7b570": {
     "views": [
      {
       "cell_index": 0
      }
     ]
    },
    "3817972578e141039a1b6953fdb2c4b4": {
     "views": [
      {
       "cell_index": 0
      }
     ]
    },
    "3a67a7a4cdfc41509eaa61aba2687492": {
     "views": [
      {
       "cell_index": 0
      }
     ]
    },
    "415949bbfeec42af9f47bd89b5f7f80b": {
     "views": [
      {
       "cell_index": 0
      }
     ]
    },
    "4386cea1040f4bf4a544f823106bc537": {
     "views": [
      {
       "cell_index": 0
      }
     ]
    },
    "45edb0c458c847a3b9870ac0df5538dd": {
     "views": [
      {
       "cell_index": 0
      }
     ]
    },
    "46cdf2082cf545388ab239b09f908be2": {
     "views": [
      {
       "cell_index": 0
      }
     ]
    },
    "4a850b6fc27d4b4685c27fe59527c643": {
     "views": [
      {
       "cell_index": 0
      }
     ]
    },
    "4ff168c80b264ddfab44a721e09bb09f": {
     "views": [
      {
       "cell_index": 0
      }
     ]
    },
    "52fd2835fd79417494057b698faa06a9": {
     "views": [
      {
       "cell_index": 0
      }
     ]
    },
    "53ce39eb056f4873b96e09278bd56bba": {
     "views": [
      {
       "cell_index": 0
      }
     ]
    },
    "561c1a49aaee48f5b8e1f94b6d4ec0a1": {
     "views": [
      {
       "cell_index": 0
      }
     ]
    },
    "5624cac5e0ca45d78d8f7d10b6906a43": {
     "views": [
      {
       "cell_index": 0
      }
     ]
    },
    "575cb6b0fde644f8b18d4d26507de72b": {
     "views": [
      {
       "cell_index": 0
      }
     ]
    },
    "58162c8479b440ae80165a75bcc85065": {
     "views": [
      {
       "cell_index": 0
      }
     ]
    },
    "59f358bbe6f649039931619b8f1a78e6": {
     "views": [
      {
       "cell_index": 0
      }
     ]
    },
    "6370298f475b4908954e06ee4757caf2": {
     "views": [
      {
       "cell_index": 0
      }
     ]
    },
    "6378a8d1e01e409eabeb5804e77f46b1": {
     "views": [
      {
       "cell_index": 0
      }
     ]
    },
    "640739fd477e4d28ba2603ab369efa3e": {
     "views": [
      {
       "cell_index": 0
      }
     ]
    },
    "64e7ca661def422985b1994160a85fab": {
     "views": [
      {
       "cell_index": 0
      }
     ]
    },
    "689608de35fa4b2d9c6e3b5ba44a5f17": {
     "views": [
      {
       "cell_index": 0
      }
     ]
    },
    "69edc794979d4b0a8a038999d5dbc423": {
     "views": [
      {
       "cell_index": 0
      }
     ]
    },
    "6bd6b74f19314e0e91ebe4f9c4919186": {
     "views": [
      {
       "cell_index": 0
      }
     ]
    },
    "6d01f4f15b6647c2b884cb286d6432da": {
     "views": [
      {
       "cell_index": 0
      }
     ]
    },
    "6eb1a8efe7b5412f86d31e26ef6b4ff5": {
     "views": [
      {
       "cell_index": 0
      }
     ]
    },
    "6fa3d5b837d64087b34a5df70d7d1bd0": {
     "views": [
      {
       "cell_index": 0
      }
     ]
    },
    "7001bc506ad3403193a891b6c15ce19c": {
     "views": [
      {
       "cell_index": 0
      }
     ]
    },
    "71d4e3bb439f4169948a78bbf2bce028": {
     "views": [
      {
       "cell_index": 0
      }
     ]
    },
    "73344c33d7f647afaefdbd967e1d0ce2": {
     "views": [
      {
       "cell_index": 0
      }
     ]
    },
    "7386fb634f8941d7a318d615ab07bec4": {
     "views": [
      {
       "cell_index": 0
      }
     ]
    },
    "752330d889894b7a8ea061740f5a0b0a": {
     "views": [
      {
       "cell_index": 0
      }
     ]
    },
    "7a1100e2746d4daabf18947ebc12c301": {
     "views": [
      {
       "cell_index": 0
      }
     ]
    },
    "7c5113e388e64bc6b8cac5f2e3b9e768": {
     "views": [
      {
       "cell_index": 0
      }
     ]
    },
    "83b923973c684f95b226d4284fddc12c": {
     "views": [
      {
       "cell_index": 0
      }
     ]
    },
    "863307da24da4584919cf88dd1205aac": {
     "views": [
      {
       "cell_index": 0
      }
     ]
    },
    "88022935da774d0f8ea25d610d925600": {
     "views": [
      {
       "cell_index": 0
      }
     ]
    },
    "8e584cce8cf646649d7997154ca80332": {
     "views": [
      {
       "cell_index": 0
      }
     ]
    },
    "8e8dcb7feb9f405eb1668a06c90b07ef": {
     "views": [
      {
       "cell_index": 0
      }
     ]
    },
    "924f57148a5246b2b8a7267b50510d6f": {
     "views": [
      {
       "cell_index": 0
      }
     ]
    },
    "930cbd742c934b1c8961ce112128e172": {
     "views": [
      {
       "cell_index": 0
      }
     ]
    },
    "93379151302542ec8670961d2c205488": {
     "views": [
      {
       "cell_index": 0
      }
     ]
    },
    "985bc3ea04fb4711a6228fa772c9781b": {
     "views": [
      {
       "cell_index": 0
      }
     ]
    },
    "986f56a2215a480c839be566514e2d00": {
     "views": [
      {
       "cell_index": 0
      }
     ]
    },
    "9b916663a7c14847ba7364391c7242a0": {
     "views": [
      {
       "cell_index": 0
      }
     ]
    },
    "9ccf89d76be748fbb93dc532ede9b3f4": {
     "views": [
      {
       "cell_index": 0
      }
     ]
    },
    "9fd0312f56974f96828cb50a9f78c9f1": {
     "views": [
      {
       "cell_index": 0
      }
     ]
    },
    "a0f1d217263b410ebb7c26c2aed68890": {
     "views": [
      {
       "cell_index": 0
      }
     ]
    },
    "a2646cc765464d3286bc709cbebca83b": {
     "views": [
      {
       "cell_index": 0
      }
     ]
    },
    "a4567c7641b0494da9af2d6b291a40d3": {
     "views": [
      {
       "cell_index": 0
      }
     ]
    },
    "a56c4879901d4e01b7595fb35b2404e4": {
     "views": [
      {
       "cell_index": 0
      }
     ]
    },
    "a56efc12ff9240bdb942ce723901a35b": {
     "views": [
      {
       "cell_index": 0
      }
     ]
    },
    "a56f8cadbb4f4ebeb524213ceb1e8b11": {
     "views": [
      {
       "cell_index": 0
      }
     ]
    },
    "a6454472f7284100a1dd9cf13c12788f": {
     "views": [
      {
       "cell_index": 0
      }
     ]
    },
    "a7b785463b324bf19fbffb50d8e18d89": {
     "views": [
      {
       "cell_index": 0
      }
     ]
    },
    "a9f60a20b694442da072711e027d5105": {
     "views": [
      {
       "cell_index": 0
      }
     ]
    },
    "abb6ec3030184276b6368c04f450a169": {
     "views": [
      {
       "cell_index": 0
      }
     ]
    },
    "ae9b02b638f8492ab75e167b82bbe488": {
     "views": [
      {
       "cell_index": 0
      }
     ]
    },
    "aea0646e7ad84d8cb2126c74103a2cc4": {
     "views": [
      {
       "cell_index": 0
      }
     ]
    },
    "b0541310da6b4ff79b315298f138aa57": {
     "views": [
      {
       "cell_index": 0
      }
     ]
    },
    "b07f00ed6ba84b1d8f6421fca1b90fa2": {
     "views": [
      {
       "cell_index": 0
      }
     ]
    },
    "b287aa95b65e4117ae0e78900ce500e5": {
     "views": [
      {
       "cell_index": 0
      }
     ]
    },
    "b2c1ac8b78094df5bdb71703c155f7d1": {
     "views": [
      {
       "cell_index": 0
      }
     ]
    },
    "b47b8a22bfe840ff86901059f2eaa6fe": {
     "views": [
      {
       "cell_index": 0
      }
     ]
    },
    "b5ef10339c224ad2af7b5997f7595610": {
     "views": [
      {
       "cell_index": 0
      }
     ]
    },
    "bc33766becf14c00a515f952385ba100": {
     "views": [
      {
       "cell_index": 0
      }
     ]
    },
    "bc5c781945e84b3583acd2781795222e": {
     "views": [
      {
       "cell_index": 0
      }
     ]
    },
    "be7a9fddf7f047478c6e50088c591cf8": {
     "views": [
      {
       "cell_index": 0
      }
     ]
    },
    "c446efc8cccf4287bd73ca93badb75bd": {
     "views": [
      {
       "cell_index": 0
      }
     ]
    },
    "c450017b091845d6a239dddf5ad18cdf": {
     "views": [
      {
       "cell_index": 0
      }
     ]
    },
    "c60d76c8f2994105ba4e15553a719ee0": {
     "views": [
      {
       "cell_index": 0
      }
     ]
    },
    "c8abd88205aa4bfeb1490a519be9c9ae": {
     "views": [
      {
       "cell_index": 0
      }
     ]
    },
    "d1ece6cde27046069e9d5c206127b1db": {
     "views": [
      {
       "cell_index": 0
      }
     ]
    },
    "d43461a58657478f90cd6045a59f002a": {
     "views": [
      {
       "cell_index": 0
      }
     ]
    },
    "d4d5a2b2265d4bf8b011f7a4dad88a47": {
     "views": [
      {
       "cell_index": 0
      }
     ]
    },
    "d5cc11d016684a478056fce2695bb6d3": {
     "views": [
      {
       "cell_index": 0
      }
     ]
    },
    "d8ecee74da6b498ebeccc99af1924631": {
     "views": [
      {
       "cell_index": 0
      }
     ]
    },
    "ddfca4a924054ba1a398c47a8f49b284": {
     "views": [
      {
       "cell_index": 0
      }
     ]
    },
    "de1364497fb04d77a3e19c025607e0df": {
     "views": [
      {
       "cell_index": 0
      }
     ]
    },
    "e01fde6b7bac4541a499e66e1ec846da": {
     "views": [
      {
       "cell_index": 0
      }
     ]
    },
    "e3300ee458aa47aea0b37006145f5d66": {
     "views": [
      {
       "cell_index": 0
      }
     ]
    },
    "e33d30879e534a379c75c9145c152a2d": {
     "views": [
      {
       "cell_index": 0
      }
     ]
    },
    "e446e2d3e0d04cbb8c20a564f1dbb066": {
     "views": [
      {
       "cell_index": 0
      }
     ]
    },
    "e54a6ebdf74a4be0b7c9202db024dab8": {
     "views": [
      {
       "cell_index": 0
      }
     ]
    },
    "e597545d5e7047efa4c1fe234a50a1dc": {
     "views": [
      {
       "cell_index": 0
      }
     ]
    },
    "e5d0101a53474c6490964989540462e2": {
     "views": [
      {
       "cell_index": 0
      }
     ]
    },
    "ea5ed4884a9640baa6b52cd929f83fc7": {
     "views": [
      {
       "cell_index": 0
      }
     ]
    },
    "edc38631d9434e5fa9db5eca2213912f": {
     "views": [
      {
       "cell_index": 0
      }
     ]
    },
    "f026e3c845a14001b0147bb70d5cf198": {
     "views": [
      {
       "cell_index": 0
      }
     ]
    },
    "f1591baf1fad4ce4b03b09eec8983c00": {
     "views": [
      {
       "cell_index": 0
      }
     ]
    },
    "f17934d0f4494cc8aaf45bcf61d140d0": {
     "views": [
      {
       "cell_index": 0
      }
     ]
    },
    "f2587e4a718a4669850db9f16a94e457": {
     "views": [
      {
       "cell_index": 0
      }
     ]
    },
    "f4644b1f422a42568df84a06c9ac98e5": {
     "views": [
      {
       "cell_index": 0
      }
     ]
    },
    "f46cff02fd6d4426a49c9ed050d9d796": {
     "views": [
      {
       "cell_index": 0
      }
     ]
    },
    "f91ba0c60c2f49ffb3406842ccc55d7d": {
     "views": [
      {
       "cell_index": 0
      }
     ]
    },
    "fa67e78dc4ca4e049d0e22487ae8e102": {
     "views": [
      {
       "cell_index": 0
      }
     ]
    }
   },
   "version": "1.2.0"
  }
 },
 "nbformat": 4,
 "nbformat_minor": 0
}
