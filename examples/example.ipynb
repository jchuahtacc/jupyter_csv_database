{
 "cells": [
  {
   "cell_type": "code",
   "execution_count": 1,
   "metadata": {
    "collapsed": false
   },
   "outputs": [],
   "source": [
    "from neesdb import Database\n",
    "db = Database(\"example.csv\")\n",
    "db.show(['field 1', 'field 2', 'field 3', 'field 4'])"
   ]
  },
  {
   "cell_type": "code",
   "execution_count": 4,
   "metadata": {
    "collapsed": false
   },
   "outputs": [
    {
     "data": {
      "text/html": [
       "<div>\n",
       "<table border=\"1\" class=\"dataframe\">\n",
       "  <thead>\n",
       "    <tr style=\"text-align: right;\">\n",
       "      <th></th>\n",
       "      <th>field 1</th>\n",
       "      <th>field 2</th>\n",
       "      <th>field 3</th>\n",
       "      <th>field 4</th>\n",
       "    </tr>\n",
       "  </thead>\n",
       "  <tbody>\n",
       "    <tr>\n",
       "      <th>0</th>\n",
       "      <td>a</td>\n",
       "      <td>0</td>\n",
       "      <td>NaN</td>\n",
       "      <td>NaN</td>\n",
       "    </tr>\n",
       "    <tr>\n",
       "      <th>1</th>\n",
       "      <td>c</td>\n",
       "      <td>1</td>\n",
       "      <td>{\"file1\":true}</td>\n",
       "      <td>NaN</td>\n",
       "    </tr>\n",
       "  </tbody>\n",
       "</table>\n",
       "</div>"
      ],
      "text/plain": [
       "  field 1  field 2         field 3  field 4\n",
       "0       a        0             NaN      NaN\n",
       "1       c        1  {\"file1\":true}      NaN"
      ]
     },
     "execution_count": 4,
     "metadata": {},
     "output_type": "execute_result"
    }
   ],
   "source": [
    "db._data_grid.df"
   ]
  },
  {
   "cell_type": "code",
   "execution_count": null,
   "metadata": {
    "collapsed": false,
    "scrolled": true
   },
   "outputs": [],
   "source": [
    "result = None\n",
    "def callback(df):\n",
    "    global result\n",
    "    result = df\n",
    "\n",
    "widget.export_view(callback)\n",
    "#from zipfile import ZipFile\n",
    "\n",
    "#with ZipFile('zippy.zip', 'w') as myZip:\n",
    "#    myZip.write('workfile')\n",
    "#    myZip.close()\n",
    "\n",
    "    "
   ]
  }
 ],
 "metadata": {
  "anaconda-cloud": {},
  "kernelspec": {
   "display_name": "Python [Root]",
   "language": "python",
   "name": "Python [Root]"
  },
  "language_info": {
   "codemirror_mode": {
    "name": "ipython",
    "version": 2
   },
   "file_extension": ".py",
   "mimetype": "text/x-python",
   "name": "python",
   "nbconvert_exporter": "python",
   "pygments_lexer": "ipython2",
   "version": "2.7.12"
  },
  "widgets": {
   "state": {
    "124d595813ca40b99447dc3b8e7c11cb": {
     "views": [
      {
       "cell_index": 0
      }
     ]
    },
    "18fdee74dbf548d386d651f646f27b0b": {
     "views": [
      {
       "cell_index": 0
      }
     ]
    },
    "2c9b33859aff4c6cadac980b87b9c43e": {
     "views": [
      {
       "cell_index": 0
      }
     ]
    },
    "7dd576d5f5204550bdc49ebfd8a58931": {
     "views": [
      {
       "cell_index": 0
      }
     ]
    },
    "7f64aa18850a4a458e432059c7400edc": {
     "views": [
      {
       "cell_index": 0
      }
     ]
    },
    "9042bb4aaa244431937e4c0ecec135bd": {
     "views": [
      {
       "cell_index": 0
      }
     ]
    },
    "9db1e0ff0e3441899c6831845bc33170": {
     "views": [
      {
       "cell_index": 0
      }
     ]
    },
    "e935d1adea5648c2a36d4838c1f426bb": {
     "views": [
      {
       "cell_index": 0
      }
     ]
    },
    "fb74a8148ced47abb34777c50202ca04": {
     "views": [
      {
       "cell_index": 0
      }
     ]
    }
   },
   "version": "1.2.0"
  }
 },
 "nbformat": 4,
 "nbformat_minor": 0
}
