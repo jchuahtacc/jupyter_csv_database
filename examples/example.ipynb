{
 "cells": [
  {
   "cell_type": "code",
   "execution_count": 1,
   "metadata": {
    "collapsed": false
   },
   "outputs": [],
   "source": [
    "from neesdb import Database\n",
    "db = Database(\"example.csv\")\n",
    "db.fields(['field 1', 'field 2'])"
   ]
  },
  {
   "cell_type": "code",
   "execution_count": 1,
   "metadata": {
    "collapsed": true
   },
   "outputs": [],
   "source": []
  },
  {
   "cell_type": "code",
   "execution_count": 12,
   "metadata": {
    "collapsed": false,
    "scrolled": true
   },
   "outputs": [],
   "source": [
    "result = None\n",
    "def callback(df):\n",
    "    global result\n",
    "    result = df\n",
    "\n",
    "widget.export_view(callback)\n",
    "#from zipfile import ZipFile\n",
    "\n",
    "#with ZipFile('zippy.zip', 'w') as myZip:\n",
    "#    myZip.write('workfile')\n",
    "#    myZip.close()\n",
    "\n",
    "    "
   ]
  }
 ],
 "metadata": {
  "anaconda-cloud": {},
  "kernelspec": {
   "display_name": "Python [Root]",
   "language": "python",
   "name": "Python [Root]"
  },
  "language_info": {
   "codemirror_mode": {
    "name": "ipython",
    "version": 2
   },
   "file_extension": ".py",
   "mimetype": "text/x-python",
   "name": "python",
   "nbconvert_exporter": "python",
   "pygments_lexer": "ipython2",
   "version": "2.7.12"
  },
  "widgets": {
   "state": {
    "1321ca4eb2a64603953b1c731be8437c": {
     "views": [
      {
       "cell_index": 0
      }
     ]
    },
    "28544b8191d9491ea807802c95eef562": {
     "views": [
      {
       "cell_index": 0
      }
     ]
    },
    "37e837febefd4e49b04cda4e93f843a3": {
     "views": [
      {
       "cell_index": 0
      }
     ]
    },
    "6bbe3238774d43bab1bd90623e29e8dc": {
     "views": [
      {
       "cell_index": 0
      }
     ]
    },
    "716928e376eb4e6290cbb27d15fa4b0f": {
     "views": [
      {
       "cell_index": 0
      }
     ]
    },
    "7dba85454bc24d719d2d3a92fdbff97b": {
     "views": [
      {
       "cell_index": 0
      }
     ]
    },
    "910e7426558645d2a36223b50b152193": {
     "views": [
      {
       "cell_index": 0
      }
     ]
    },
    "991f1ffd966c42bbad662e2b1c62e8ed": {
     "views": [
      {
       "cell_index": 0
      }
     ]
    },
    "bd587921879c49ae93addad05d0c4e51": {
     "views": [
      {
       "cell_index": 0
      }
     ]
    },
    "d366a31e19e64b27900044c16d5d782c": {
     "views": [
      {
       "cell_index": 0
      }
     ]
    },
    "dfdecf4ec4684c40b20452b1b7dc9af7": {
     "views": [
      {
       "cell_index": 0
      }
     ]
    },
    "e21a22f58d7d4698a4fa040befcdee91": {
     "views": [
      {
       "cell_index": 0
      }
     ]
    },
    "e7f4b3eea4e341a49d507eaa2101d4af": {
     "views": [
      {
       "cell_index": 0
      }
     ]
    }
   },
   "version": "1.2.0"
  }
 },
 "nbformat": 4,
 "nbformat_minor": 0
}
