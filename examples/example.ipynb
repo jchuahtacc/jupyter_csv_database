{
 "cells": [
  {
   "cell_type": "code",
   "execution_count": 1,
   "metadata": {
    "collapsed": false
   },
   "outputs": [],
   "source": [
    "from neesdb import Database\n",
    "db = Database(\"example.csv\")\n",
    "db.show(['field 1', 'field 2', 'field 3'])"
   ]
  },
  {
   "cell_type": "code",
   "execution_count": 1,
   "metadata": {
    "collapsed": true
   },
   "outputs": [],
   "source": []
  },
  {
   "cell_type": "code",
   "execution_count": 12,
   "metadata": {
    "collapsed": false,
    "scrolled": true
   },
   "outputs": [],
   "source": [
    "result = None\n",
    "def callback(df):\n",
    "    global result\n",
    "    result = df\n",
    "\n",
    "widget.export_view(callback)\n",
    "#from zipfile import ZipFile\n",
    "\n",
    "#with ZipFile('zippy.zip', 'w') as myZip:\n",
    "#    myZip.write('workfile')\n",
    "#    myZip.close()\n",
    "\n",
    "    "
   ]
  }
 ],
 "metadata": {
  "anaconda-cloud": {},
  "kernelspec": {
   "display_name": "Python [Root]",
   "language": "python",
   "name": "Python [Root]"
  },
  "language_info": {
   "codemirror_mode": {
    "name": "ipython",
    "version": 2
   },
   "file_extension": ".py",
   "mimetype": "text/x-python",
   "name": "python",
   "nbconvert_exporter": "python",
   "pygments_lexer": "ipython2",
   "version": "2.7.12"
  },
  "widgets": {
   "state": {
    "263941cf0be7400da68113ad49009495": {
     "views": [
      {
       "cell_index": 0
      }
     ]
    },
    "273c4c8c6a7549d9873ee4fcf9a15043": {
     "views": [
      {
       "cell_index": 0
      }
     ]
    },
    "4b8a21d5069840668d4b275698d512b6": {
     "views": [
      {
       "cell_index": 0
      }
     ]
    },
    "68c67e5359c34da28fcd27c8807a647d": {
     "views": [
      {
       "cell_index": 0
      }
     ]
    },
    "81f0e0f9feb04f17ae6d4fddf1df7282": {
     "views": [
      {
       "cell_index": 0
      }
     ]
    },
    "82e33204547146cb8cbe02d060c24b64": {
     "views": [
      {
       "cell_index": 0
      }
     ]
    },
    "8c7974c1bace40e99c1e26c31957d3bc": {
     "views": [
      {
       "cell_index": 0
      }
     ]
    },
    "aa90166d2279453fa25bf3ee0e654da8": {
     "views": [
      {
       "cell_index": 0
      }
     ]
    },
    "af0be9f83e824a3b9985c081e9308667": {
     "views": [
      {
       "cell_index": 0
      }
     ]
    },
    "b93a912d031545838a34849d153dc172": {
     "views": [
      {
       "cell_index": 0
      }
     ]
    },
    "ca602d03be2141938e9006fc0ba115a7": {
     "views": [
      {
       "cell_index": 0
      }
     ]
    },
    "e3a1490c9b8e48b6a73c8a6215c4960a": {
     "views": [
      {
       "cell_index": 0
      }
     ]
    },
    "ebb111beea50451ea93108f69e70fee3": {
     "views": [
      {
       "cell_index": 0
      }
     ]
    },
    "fab8801dd1ee4645aca6752c627ef235": {
     "views": [
      {
       "cell_index": 0
      }
     ]
    }
   },
   "version": "1.2.0"
  }
 },
 "nbformat": 4,
 "nbformat_minor": 0
}
