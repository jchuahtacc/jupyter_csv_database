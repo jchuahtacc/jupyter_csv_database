{
 "cells": [
  {
   "cell_type": "code",
   "execution_count": 1,
   "metadata": {
    "collapsed": false
   },
   "outputs": [],
   "source": [
    "from neesdb import Database\n",
    "db = Database(\"example.csv\")\n",
    "db.show()"
   ]
  },
  {
   "cell_type": "code",
   "execution_count": 2,
   "metadata": {
    "collapsed": false
   },
   "outputs": [
    {
     "name": "stdout",
     "output_type": "stream",
     "text": [
      "  field 1  field 2  field 3  field 4\n",
      "0       a      0.0      NaN      NaN\n",
      "1       b      1.0      NaN      NaN\n",
      "3     NaN      3.0      NaN      NaN\n",
      "4     NaN      6.0      NaN      NaN\n",
      "5     NaN      6.0      NaN      NaN\n",
      "6     NaN      6.0      NaN      NaN\n"
     ]
    }
   ],
   "source": [
    "print db._df\n"
   ]
  }
 ],
 "metadata": {
  "anaconda-cloud": {},
  "kernelspec": {
   "display_name": "Python [Root]",
   "language": "python",
   "name": "Python [Root]"
  },
  "language_info": {
   "codemirror_mode": {
    "name": "ipython",
    "version": 2
   },
   "file_extension": ".py",
   "mimetype": "text/x-python",
   "name": "python",
   "nbconvert_exporter": "python",
   "pygments_lexer": "ipython2",
   "version": "2.7.12"
  },
  "widgets": {
   "state": {
    "1e1ecb526ed34b72b84b70eeca66b4c5": {
     "views": [
      {
       "cell_index": 0
      }
     ]
    },
    "2c419552ea21451aa412d560f9b40837": {
     "views": [
      {
       "cell_index": 0
      }
     ]
    },
    "37359009937a4e959aeed8221c2a984d": {
     "views": [
      {
       "cell_index": 0
      }
     ]
    },
    "395eb92553b644ad88286af11bc426db": {
     "views": [
      {
       "cell_index": 0
      }
     ]
    },
    "a30fcf587eaf42d9a57c41f0385843ed": {
     "views": [
      {
       "cell_index": 0
      }
     ]
    },
    "eb3b9c29c59e4e8ba512625e80a49392": {
     "views": [
      {
       "cell_index": 0
      }
     ]
    },
    "ed4dccabe56e4e52904a49274302d282": {
     "views": [
      {
       "cell_index": 0
      }
     ]
    },
    "f0798258ac754a838fe366ff09f9efdb": {
     "views": [
      {
       "cell_index": 0
      }
     ]
    }
   },
   "version": "1.2.0"
  }
 },
 "nbformat": 4,
 "nbformat_minor": 0
}
