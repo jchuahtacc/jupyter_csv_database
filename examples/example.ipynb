{
 "cells": [
  {
   "cell_type": "code",
   "execution_count": 1,
   "metadata": {
    "collapsed": false
   },
   "outputs": [
    {
     "name": "stdout",
     "output_type": "stream",
     "text": [
      "{\"example.csv\": true, \"example.ipynb\": true}\n"
     ]
    }
   ],
   "source": [
    "from neesdb import Database\n",
    "db = Database(\"example.csv\")\n",
    "db.show(['field 1', 'field 3', 'field 4'])"
   ]
  },
  {
   "cell_type": "code",
   "execution_count": null,
   "metadata": {
    "collapsed": true
   },
   "outputs": [],
   "source": []
  },
  {
   "cell_type": "code",
   "execution_count": null,
   "metadata": {
    "collapsed": false,
    "scrolled": true
   },
   "outputs": [],
   "source": [
    "result = None\n",
    "def callback(df):\n",
    "    global result\n",
    "    result = df\n",
    "\n",
    "widget.export_view(callback)\n",
    "#from zipfile import ZipFile\n",
    "\n",
    "#with ZipFile('zippy.zip', 'w') as myZip:\n",
    "#    myZip.write('workfile')\n",
    "#    myZip.close()\n",
    "\n",
    "    "
   ]
  }
 ],
 "metadata": {
  "anaconda-cloud": {},
  "kernelspec": {
   "display_name": "Python [Root]",
   "language": "python",
   "name": "Python [Root]"
  },
  "language_info": {
   "codemirror_mode": {
    "name": "ipython",
    "version": 2
   },
   "file_extension": ".py",
   "mimetype": "text/x-python",
   "name": "python",
   "nbconvert_exporter": "python",
   "pygments_lexer": "ipython2",
   "version": "2.7.12"
  },
  "widgets": {
   "state": {
    "1d1f2e295888481c867632dbff1527ec": {
     "views": [
      {
       "cell_index": 0
      }
     ]
    },
    "2198b5c20a904b91983e108ab629f6c6": {
     "views": [
      {
       "cell_index": 0
      }
     ]
    },
    "3d7d1024a5cf4a6c9f1759cad36b4290": {
     "views": [
      {
       "cell_index": 0
      }
     ]
    },
    "574977b9d8ba46139d184c6d7ebc62bc": {
     "views": [
      {
       "cell_index": 0
      }
     ]
    },
    "6f29ff5731e942e2bf3d7fdd9b493af6": {
     "views": [
      {
       "cell_index": 0
      }
     ]
    },
    "807ac0d155a3402ba7559d305a9e2ffb": {
     "views": [
      {
       "cell_index": 0
      }
     ]
    },
    "8f24a14587714e57bf87101fe242252e": {
     "views": [
      {
       "cell_index": 0
      }
     ]
    },
    "9a0ddf62a1364ec69f8ccceed8279a7d": {
     "views": [
      {
       "cell_index": 0
      }
     ]
    },
    "b1522cbe38574bd8929584e3c8c7c0bb": {
     "views": [
      {
       "cell_index": 0
      }
     ]
    },
    "d05ca4fd398e4173b128eb5b3e98780b": {
     "views": [
      {
       "cell_index": 0
      }
     ]
    },
    "e80826daac3f4b69a5bc52b52ab67b11": {
     "views": [
      {
       "cell_index": 0
      }
     ]
    },
    "f1075315e6c14830b6491c0853f01c23": {
     "views": [
      {
       "cell_index": 0
      }
     ]
    },
    "f1514bd17d854b6eaeb8dd0d74041492": {
     "views": [
      {
       "cell_index": 0
      }
     ]
    }
   },
   "version": "1.2.0"
  }
 },
 "nbformat": 4,
 "nbformat_minor": 0
}
