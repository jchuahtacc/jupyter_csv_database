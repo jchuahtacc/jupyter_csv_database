{
 "cells": [
  {
   "cell_type": "code",
   "execution_count": 1,
   "metadata": {
    "collapsed": false
   },
   "outputs": [],
   "source": [
    "from neesdb import Database\n",
    "db = Database(\"example.csv\")\n",
    "db.fields()"
   ]
  },
  {
   "cell_type": "code",
   "execution_count": 1,
   "metadata": {
    "collapsed": true
   },
   "outputs": [],
   "source": []
  },
  {
   "cell_type": "code",
   "execution_count": 12,
   "metadata": {
    "collapsed": false,
    "scrolled": true
   },
   "outputs": [],
   "source": [
    "result = None\n",
    "def callback(df):\n",
    "    global result\n",
    "    result = df\n",
    "\n",
    "widget.export_view(callback)\n",
    "#from zipfile import ZipFile\n",
    "\n",
    "#with ZipFile('zippy.zip', 'w') as myZip:\n",
    "#    myZip.write('workfile')\n",
    "#    myZip.close()\n",
    "\n",
    "    "
   ]
  }
 ],
 "metadata": {
  "anaconda-cloud": {},
  "kernelspec": {
   "display_name": "Python [Root]",
   "language": "python",
   "name": "Python [Root]"
  },
  "language_info": {
   "codemirror_mode": {
    "name": "ipython",
    "version": 2
   },
   "file_extension": ".py",
   "mimetype": "text/x-python",
   "name": "python",
   "nbconvert_exporter": "python",
   "pygments_lexer": "ipython2",
   "version": "2.7.12"
  },
  "widgets": {
   "state": {
    "0a271b9042c74c66bbe7aea26ef3339d": {
     "views": [
      {
       "cell_index": 0
      }
     ]
    },
    "1321ca4eb2a64603953b1c731be8437c": {
     "views": [
      {
       "cell_index": 0
      }
     ]
    },
    "18c09214a8974c66baa1af9fbef4dde8": {
     "views": [
      {
       "cell_index": 0
      }
     ]
    },
    "1d24a7acdd7549768ff2c278e5b816cf": {
     "views": [
      {
       "cell_index": 0
      }
     ]
    },
    "3fccb61f191440be85b9c2fa5dd2a887": {
     "views": [
      {
       "cell_index": 0
      }
     ]
    },
    "62f7cb0af4d548128dc88989ceb1c67f": {
     "views": [
      {
       "cell_index": 0
      }
     ]
    },
    "67ac9163f97e4eed921f38b49023944c": {
     "views": [
      {
       "cell_index": 0
      }
     ]
    },
    "88be21d3a46149cdb2a2d3e34c853e2f": {
     "views": [
      {
       "cell_index": 0
      }
     ]
    },
    "bd587921879c49ae93addad05d0c4e51": {
     "views": [
      {
       "cell_index": 0
      }
     ]
    }
   },
   "version": "1.2.0"
  }
 },
 "nbformat": 4,
 "nbformat_minor": 0
}
