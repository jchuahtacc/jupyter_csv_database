{
 "cells": [
  {
   "cell_type": "code",
   "execution_count": 1,
   "metadata": {
    "collapsed": false
   },
   "outputs": [],
   "source": [
    "from neesdb import Database\n",
    "db = Database(\"example.csv\")\n",
    "db.fields()"
   ]
  },
  {
   "cell_type": "code",
   "execution_count": 1,
   "metadata": {
    "collapsed": true
   },
   "outputs": [],
   "source": []
  },
  {
   "cell_type": "code",
   "execution_count": 12,
   "metadata": {
    "collapsed": false,
    "scrolled": true
   },
   "outputs": [],
   "source": [
    "result = None\n",
    "def callback(df):\n",
    "    global result\n",
    "    result = df\n",
    "\n",
    "widget.export_view(callback)\n",
    "#from zipfile import ZipFile\n",
    "\n",
    "#with ZipFile('zippy.zip', 'w') as myZip:\n",
    "#    myZip.write('workfile')\n",
    "#    myZip.close()\n",
    "\n",
    "    "
   ]
  }
 ],
 "metadata": {
  "anaconda-cloud": {},
  "kernelspec": {
   "display_name": "Python [Root]",
   "language": "python",
   "name": "Python [Root]"
  },
  "language_info": {
   "codemirror_mode": {
    "name": "ipython",
    "version": 2
   },
   "file_extension": ".py",
   "mimetype": "text/x-python",
   "name": "python",
   "nbconvert_exporter": "python",
   "pygments_lexer": "ipython2",
   "version": "2.7.12"
  },
  "widgets": {
   "state": {
    "03fa5a0419394c1ea41d81c7f4eb620d": {
     "views": [
      {
       "cell_index": 0
      }
     ]
    },
    "04807a5aba1a46cbb3838c814c9e8f05": {
     "views": [
      {
       "cell_index": 0
      }
     ]
    },
    "0fe89902b8544eaeb31c539b07af251c": {
     "views": [
      {
       "cell_index": 0
      }
     ]
    },
    "1321ca4eb2a64603953b1c731be8437c": {
     "views": [
      {
       "cell_index": 0
      }
     ]
    },
    "18c09214a8974c66baa1af9fbef4dde8": {
     "views": [
      {
       "cell_index": 0
      }
     ]
    },
    "1bc8ffe1eedf47f29de89eea68002f38": {
     "views": [
      {
       "cell_index": 0
      }
     ]
    },
    "1e688769ec6947528feddbfe63017762": {
     "views": [
      {
       "cell_index": 0
      }
     ]
    },
    "25c04be67558475a9a294682276bb6fd": {
     "views": [
      {
       "cell_index": 0
      }
     ]
    },
    "2879e794a4b44ffd996c60089e504e2e": {
     "views": [
      {
       "cell_index": 0
      }
     ]
    },
    "35dcfb5b0e1049959265494deaa11292": {
     "views": [
      {
       "cell_index": 0
      }
     ]
    },
    "40a97761c9674e718d8d3fe6fe76ac22": {
     "views": [
      {
       "cell_index": 0
      }
     ]
    },
    "47b54592cfab466aada23325b685c142": {
     "views": [
      {
       "cell_index": 0
      }
     ]
    },
    "5059cf045a714c3b8ad9251c5a1ce29d": {
     "views": [
      {
       "cell_index": 0
      }
     ]
    },
    "512a65cafa8f437893f4029d86713d0e": {
     "views": [
      {
       "cell_index": 0
      }
     ]
    },
    "553919b346874ef18ad0d8d32ab10677": {
     "views": [
      {
       "cell_index": 0
      }
     ]
    },
    "5d410d575c4b46ad940fe523cc771ce9": {
     "views": [
      {
       "cell_index": 0
      }
     ]
    },
    "62f7cb0af4d548128dc88989ceb1c67f": {
     "views": [
      {
       "cell_index": 0
      }
     ]
    },
    "67ac9163f97e4eed921f38b49023944c": {
     "views": [
      {
       "cell_index": 0
      }
     ]
    },
    "70ece851413540e5be7988a8b691e3f0": {
     "views": [
      {
       "cell_index": 0
      }
     ]
    },
    "7285c766aaac455595bfcc62acc67844": {
     "views": [
      {
       "cell_index": 0
      }
     ]
    },
    "74593706edfa45c68da0586974256a69": {
     "views": [
      {
       "cell_index": 0
      }
     ]
    },
    "88be21d3a46149cdb2a2d3e34c853e2f": {
     "views": [
      {
       "cell_index": 0
      }
     ]
    },
    "8ab0370c816f4ec4a407b1ea9ee8a265": {
     "views": [
      {
       "cell_index": 0
      }
     ]
    },
    "8da3025281304ba59c6d22fa025f83ce": {
     "views": [
      {
       "cell_index": 0
      }
     ]
    },
    "9b7de37b67ff445fa6cd1d3dc325d2f1": {
     "views": [
      {
       "cell_index": 0
      }
     ]
    },
    "9fb9f26577c4452a9fd2732eabfa5fc2": {
     "views": [
      {
       "cell_index": 0
      }
     ]
    },
    "a11f09d4c7884ebf8e0b63226c26fed5": {
     "views": [
      {
       "cell_index": 0
      }
     ]
    },
    "aa8388a4316d467f8b050fa733e69e8a": {
     "views": [
      {
       "cell_index": 0
      }
     ]
    },
    "b393c990f7a940ed84c1728ab1157847": {
     "views": [
      {
       "cell_index": 0
      }
     ]
    },
    "b6b6c3de974c40b7be0393a60f26b913": {
     "views": [
      {
       "cell_index": 0
      }
     ]
    },
    "b8c7b094adea475097f7c749e42f67ec": {
     "views": [
      {
       "cell_index": 0
      }
     ]
    },
    "bd587921879c49ae93addad05d0c4e51": {
     "views": [
      {
       "cell_index": 0
      }
     ]
    },
    "c4cd343a0a404f49ba915522ea3bda89": {
     "views": [
      {
       "cell_index": 0
      }
     ]
    },
    "c7c50a16f02642a68c6739d6d03572ce": {
     "views": [
      {
       "cell_index": 0
      }
     ]
    },
    "ccf619e7440a441ab31d331ca1e0069c": {
     "views": [
      {
       "cell_index": 0
      }
     ]
    },
    "d84c18d7b9ed4ea3aada9873c749b417": {
     "views": [
      {
       "cell_index": 0
      }
     ]
    },
    "dacc8e8607124f06b677e6b778a077a8": {
     "views": [
      {
       "cell_index": 0
      }
     ]
    },
    "db9c104968e44a409256f83075aa13ae": {
     "views": [
      {
       "cell_index": 0
      }
     ]
    },
    "dd37f5fd2ee444cf88ea8fcc118051f2": {
     "views": [
      {
       "cell_index": 0
      }
     ]
    },
    "deeaf087fa1b49499c63bf24bb14041a": {
     "views": [
      {
       "cell_index": 0
      }
     ]
    },
    "df6381849b374a0083ce74fc03a927b4": {
     "views": [
      {
       "cell_index": 0
      }
     ]
    },
    "e7224472238246ecacf789ca0a2bc97e": {
     "views": [
      {
       "cell_index": 0
      }
     ]
    },
    "e907e809d5bf42c4b69ff4974f9dec4b": {
     "views": [
      {
       "cell_index": 0
      }
     ]
    },
    "ee0133f0ad664eaaa6d965da50d8a7b4": {
     "views": [
      {
       "cell_index": 0
      }
     ]
    },
    "f2d849f179ce4418983aa8d05f21498d": {
     "views": [
      {
       "cell_index": 0
      }
     ]
    },
    "f58e003c44b04064aea202f4657768be": {
     "views": [
      {
       "cell_index": 0
      }
     ]
    },
    "f82f14ba251546e181c908b408909334": {
     "views": [
      {
       "cell_index": 0
      }
     ]
    },
    "f8a926018d8c41ad8b2a767e43e406a5": {
     "views": [
      {
       "cell_index": 0
      }
     ]
    }
   },
   "version": "1.2.0"
  }
 },
 "nbformat": 4,
 "nbformat_minor": 0
}
