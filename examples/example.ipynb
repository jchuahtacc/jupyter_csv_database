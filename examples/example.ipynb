{
 "cells": [
  {
   "cell_type": "code",
   "execution_count": 1,
   "metadata": {
    "collapsed": false
   },
   "outputs": [
    {
     "name": "stdout",
     "output_type": "stream",
     "text": [
      "Couldn't find file:  file1\n",
      "subdirectory subfolder\n"
     ]
    }
   ],
   "source": [
    "from neesdb import Database\n",
    "db = Database(\"example.csv\")\n",
    "db.show(['field 1', 'field 2', 'field 3', 'field 4'])"
   ]
  },
  {
   "cell_type": "code",
   "execution_count": 4,
   "metadata": {
    "collapsed": false
   },
   "outputs": [
    {
     "data": {
      "text/html": [
       "<div>\n",
       "<table border=\"1\" class=\"dataframe\">\n",
       "  <thead>\n",
       "    <tr style=\"text-align: right;\">\n",
       "      <th></th>\n",
       "      <th>field 1</th>\n",
       "      <th>field 2</th>\n",
       "      <th>field 3</th>\n",
       "      <th>field 4</th>\n",
       "    </tr>\n",
       "  </thead>\n",
       "  <tbody>\n",
       "    <tr>\n",
       "      <th>0</th>\n",
       "      <td>a</td>\n",
       "      <td>0</td>\n",
       "      <td>NaN</td>\n",
       "      <td>NaN</td>\n",
       "    </tr>\n",
       "    <tr>\n",
       "      <th>1</th>\n",
       "      <td>c</td>\n",
       "      <td>1</td>\n",
       "      <td>{\"file1\":true}</td>\n",
       "      <td>NaN</td>\n",
       "    </tr>\n",
       "  </tbody>\n",
       "</table>\n",
       "</div>"
      ],
      "text/plain": [
       "  field 1  field 2         field 3  field 4\n",
       "0       a        0             NaN      NaN\n",
       "1       c        1  {\"file1\":true}      NaN"
      ]
     },
     "execution_count": 4,
     "metadata": {},
     "output_type": "execute_result"
    }
   ],
   "source": [
    "db._data_grid.df"
   ]
  },
  {
   "cell_type": "code",
   "execution_count": null,
   "metadata": {
    "collapsed": false,
    "scrolled": true
   },
   "outputs": [],
   "source": [
    "result = None\n",
    "def callback(df):\n",
    "    global result\n",
    "    result = df\n",
    "\n",
    "widget.export_view(callback)\n",
    "#from zipfile import ZipFile\n",
    "\n",
    "#with ZipFile('zippy.zip', 'w') as myZip:\n",
    "#    myZip.write('workfile')\n",
    "#    myZip.close()\n",
    "\n",
    "    "
   ]
  }
 ],
 "metadata": {
  "anaconda-cloud": {},
  "kernelspec": {
   "display_name": "Python [Root]",
   "language": "python",
   "name": "Python [Root]"
  },
  "language_info": {
   "codemirror_mode": {
    "name": "ipython",
    "version": 2
   },
   "file_extension": ".py",
   "mimetype": "text/x-python",
   "name": "python",
   "nbconvert_exporter": "python",
   "pygments_lexer": "ipython2",
   "version": "2.7.12"
  },
  "widgets": {
   "state": {
    "0221ed93d488429da067c4a23305b70d": {
     "views": [
      {
       "cell_index": 0
      }
     ]
    },
    "031399686e5f412795655a1287663f68": {
     "views": [
      {
       "cell_index": 0
      }
     ]
    },
    "06f05d8a71f1451796d85e3536fc3403": {
     "views": [
      {
       "cell_index": 0
      }
     ]
    },
    "1230fd2bf0534b7589bc9cc7c2b7af96": {
     "views": [
      {
       "cell_index": 0
      }
     ]
    },
    "2c163f98d1c044069b148db2731d0234": {
     "views": [
      {
       "cell_index": 0
      }
     ]
    },
    "30f73b70f09644549ecd6214701f8297": {
     "views": [
      {
       "cell_index": 0
      }
     ]
    },
    "3415add4983a4bbca64a58a99ae7b570": {
     "views": [
      {
       "cell_index": 0
      }
     ]
    },
    "3a67a7a4cdfc41509eaa61aba2687492": {
     "views": [
      {
       "cell_index": 0
      }
     ]
    },
    "45edb0c458c847a3b9870ac0df5538dd": {
     "views": [
      {
       "cell_index": 0
      }
     ]
    },
    "561c1a49aaee48f5b8e1f94b6d4ec0a1": {
     "views": [
      {
       "cell_index": 0
      }
     ]
    },
    "56b362722c8a42ceae5e3a44efece4a0": {
     "views": [
      {
       "cell_index": 0
      }
     ]
    },
    "59f358bbe6f649039931619b8f1a78e6": {
     "views": [
      {
       "cell_index": 0
      }
     ]
    },
    "71d4e3bb439f4169948a78bbf2bce028": {
     "views": [
      {
       "cell_index": 0
      }
     ]
    },
    "7a1100e2746d4daabf18947ebc12c301": {
     "views": [
      {
       "cell_index": 0
      }
     ]
    },
    "863307da24da4584919cf88dd1205aac": {
     "views": [
      {
       "cell_index": 0
      }
     ]
    },
    "93379151302542ec8670961d2c205488": {
     "views": [
      {
       "cell_index": 0
      }
     ]
    },
    "985bc3ea04fb4711a6228fa772c9781b": {
     "views": [
      {
       "cell_index": 0
      }
     ]
    },
    "ae9b02b638f8492ab75e167b82bbe488": {
     "views": [
      {
       "cell_index": 0
      }
     ]
    },
    "b07f00ed6ba84b1d8f6421fca1b90fa2": {
     "views": [
      {
       "cell_index": 0
      }
     ]
    },
    "bc5c781945e84b3583acd2781795222e": {
     "views": [
      {
       "cell_index": 0
      }
     ]
    },
    "c446efc8cccf4287bd73ca93badb75bd": {
     "views": [
      {
       "cell_index": 0
      }
     ]
    },
    "d4d5a2b2265d4bf8b011f7a4dad88a47": {
     "views": [
      {
       "cell_index": 0
      }
     ]
    },
    "ddfca4a924054ba1a398c47a8f49b284": {
     "views": [
      {
       "cell_index": 0
      }
     ]
    },
    "e3300ee458aa47aea0b37006145f5d66": {
     "views": [
      {
       "cell_index": 0
      }
     ]
    },
    "e446e2d3e0d04cbb8c20a564f1dbb066": {
     "views": [
      {
       "cell_index": 0
      }
     ]
    },
    "f026e3c845a14001b0147bb70d5cf198": {
     "views": [
      {
       "cell_index": 0
      }
     ]
    },
    "f46cff02fd6d4426a49c9ed050d9d796": {
     "views": [
      {
       "cell_index": 0
      }
     ]
    },
    "f91ba0c60c2f49ffb3406842ccc55d7d": {
     "views": [
      {
       "cell_index": 0
      }
     ]
    }
   },
   "version": "1.2.0"
  }
 },
 "nbformat": 4,
 "nbformat_minor": 0
}
