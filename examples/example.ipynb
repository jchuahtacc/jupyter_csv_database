{
 "cells": [
  {
   "cell_type": "code",
   "execution_count": 1,
   "metadata": {
    "collapsed": false
   },
   "outputs": [],
   "source": [
    "from neesdb import Database\n",
    "db = Database(\"example.csv\")\n",
    "db.show(['field 1', 'field 2', 'field 3', 'field 4'])"
   ]
  },
  {
   "cell_type": "code",
   "execution_count": 16,
   "metadata": {
    "collapsed": false
   },
   "outputs": [
    {
     "data": {
      "text/plain": [
       "[3]"
      ]
     },
     "execution_count": 16,
     "metadata": {},
     "output_type": "execute_result"
    }
   ],
   "source": [
    "db._data_grid._selected_rows"
   ]
  },
  {
   "cell_type": "code",
   "execution_count": null,
   "metadata": {
    "collapsed": false,
    "scrolled": true
   },
   "outputs": [],
   "source": [
    "result = None\n",
    "def callback(df):\n",
    "    global result\n",
    "    result = df\n",
    "\n",
    "widget.export_view(callback)\n",
    "#from zipfile import ZipFile\n",
    "\n",
    "#with ZipFile('zippy.zip', 'w') as myZip:\n",
    "#    myZip.write('workfile')\n",
    "#    myZip.close()\n",
    "\n",
    "    "
   ]
  }
 ],
 "metadata": {
  "anaconda-cloud": {},
  "kernelspec": {
   "display_name": "Python [Root]",
   "language": "python",
   "name": "Python [Root]"
  },
  "language_info": {
   "codemirror_mode": {
    "name": "ipython",
    "version": 2
   },
   "file_extension": ".py",
   "mimetype": "text/x-python",
   "name": "python",
   "nbconvert_exporter": "python",
   "pygments_lexer": "ipython2",
   "version": "2.7.12"
  },
  "widgets": {
   "state": {
    "005b1deaa3384f2fab5f7ee82977a4ba": {
     "views": [
      {
       "cell_index": 0
      }
     ]
    },
    "10c5f457f07049a7ad09942c5173bb0a": {
     "views": [
      {
       "cell_index": 0
      }
     ]
    },
    "1164102f92224727ae8c22bf84ed2f0c": {
     "views": [
      {
       "cell_index": 0
      }
     ]
    },
    "248fa3ca212646aa860ad95ec471adec": {
     "views": [
      {
       "cell_index": 0
      }
     ]
    },
    "26ec32d98cb14073aec0fa9185eb83f1": {
     "views": [
      {
       "cell_index": 0
      }
     ]
    },
    "276895a586cd4ef5b8599119dccc9f7d": {
     "views": [
      {
       "cell_index": 0
      }
     ]
    },
    "2d0c9ca017cb4c4d98e21acd9293cf01": {
     "views": [
      {
       "cell_index": 0
      }
     ]
    },
    "2e5a54099d804d16a74b09f067d756ef": {
     "views": [
      {
       "cell_index": 0
      }
     ]
    },
    "308594c74f394571bd2bfff345743a82": {
     "views": [
      {
       "cell_index": 0
      }
     ]
    },
    "32d1d96ff87a42c58d238af54ff1a2e8": {
     "views": [
      {
       "cell_index": 0
      }
     ]
    },
    "3456e9fa900a44ed83791adc00848df6": {
     "views": [
      {
       "cell_index": 0
      }
     ]
    },
    "3b1bea7a0a0c4df6a855ec3322e8254a": {
     "views": [
      {
       "cell_index": 0
      }
     ]
    },
    "3ef1278747314d15b8e16d2e281ec618": {
     "views": [
      {
       "cell_index": 0
      }
     ]
    },
    "485dfc6db4df40b397f60dca031b59ba": {
     "views": [
      {
       "cell_index": 0
      }
     ]
    },
    "4d01880560df47ccb879ced6c5ef47c6": {
     "views": [
      {
       "cell_index": 0
      }
     ]
    },
    "4de3b2de8c924801823b8dec15883fc5": {
     "views": [
      {
       "cell_index": 0
      }
     ]
    },
    "54b0b2c4c92646ae89b9071ac163ab66": {
     "views": [
      {
       "cell_index": 0
      }
     ]
    },
    "585b39a5df63441894d8348d6760352c": {
     "views": [
      {
       "cell_index": 0
      }
     ]
    },
    "66994c22fc0f45c0980d49a444da7fef": {
     "views": [
      {
       "cell_index": 0
      }
     ]
    },
    "6d6356e981d9455c9119f04ec02fe035": {
     "views": [
      {
       "cell_index": 0
      }
     ]
    },
    "74567d4fe310432f9a9df6b26543a2d1": {
     "views": [
      {
       "cell_index": 0
      }
     ]
    },
    "75f15c655ea342a0a4dc1cfc77108225": {
     "views": [
      {
       "cell_index": 0
      }
     ]
    },
    "77182dbe9f994e99b60b04ad30dcf671": {
     "views": [
      {
       "cell_index": 0
      }
     ]
    },
    "7a2108d218fe4fcb81ff2f2d6d751024": {
     "views": [
      {
       "cell_index": 0
      }
     ]
    },
    "89550b1bdda14510a9977b8e656bcf00": {
     "views": [
      {
       "cell_index": 0
      }
     ]
    },
    "95d4520bb40a448f9446a06611c8855d": {
     "views": [
      {
       "cell_index": 0
      }
     ]
    },
    "9b15fb96c7174406864e5d63c56cda35": {
     "views": [
      {
       "cell_index": 0
      }
     ]
    },
    "a01fa79a94b94344a94a39d33b4761af": {
     "views": [
      {
       "cell_index": 0
      }
     ]
    },
    "b12743cdcf284b86a5acef26f45a4290": {
     "views": [
      {
       "cell_index": 0
      }
     ]
    },
    "b547acc37f24417b87f887105b3688f5": {
     "views": [
      {
       "cell_index": 0
      }
     ]
    },
    "cb4fdbaaf7df49c39ef29fb4c06d7aee": {
     "views": [
      {
       "cell_index": 0
      }
     ]
    },
    "dcce833746c843d2abce70ebbf023aac": {
     "views": [
      {
       "cell_index": 0
      }
     ]
    },
    "e3515d9e4e5f4f8e9acd3c07f9ec930d": {
     "views": [
      {
       "cell_index": 0
      }
     ]
    },
    "edf07539165a43f1bb4577e6af871e59": {
     "views": [
      {
       "cell_index": 0
      }
     ]
    },
    "f0c697d0845b449dbb3b871deee712ae": {
     "views": [
      {
       "cell_index": 0
      }
     ]
    },
    "f3e4746fb7514ea49b29d5d1dec81085": {
     "views": [
      {
       "cell_index": 0
      }
     ]
    },
    "f5875b022e554ed786afd5f18d9893aa": {
     "views": [
      {
       "cell_index": 0
      }
     ]
    },
    "fae81335127142adbdd12a5c55857068": {
     "views": [
      {
       "cell_index": 0
      }
     ]
    }
   },
   "version": "1.2.0"
  }
 },
 "nbformat": 4,
 "nbformat_minor": 0
}
